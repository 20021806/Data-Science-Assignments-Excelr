{
 "cells": [
  {
   "cell_type": "markdown",
   "id": "6fe90cf3-1577-4afd-9721-36226c18fa2c",
   "metadata": {},
   "source": [
    "## Assignment-11 Recommendation System\n",
    "\n"
   ]
  },
  {
   "cell_type": "code",
   "execution_count": null,
   "id": "4ce0840e-64da-4a72-960c-a437217e83e0",
   "metadata": {},
   "outputs": [],
   "source": [
    "# Importing libraries\n",
    "import numpy as np\n",
    "import pandas as pd\n",
    "import matplotlib.pyplot as plt\n",
    "import seaborn as sns"
   ]
  },
  {
   "cell_type": "code",
   "execution_count": null,
   "id": "3eeb8310-2d14-46c1-91bc-1c9b1dd5efe4",
   "metadata": {},
   "outputs": [],
   "source": [
    "df = pd.read_csv('anime.csv')\n",
    "     "
   ]
  },
  {
   "cell_type": "code",
   "execution_count": null,
   "id": "a9e52cd4-530f-4535-897c-dd8b92ba56ee",
   "metadata": {},
   "outputs": [],
   "source": [
    "df.head()"
   ]
  },
  {
   "cell_type": "code",
   "execution_count": null,
   "id": "54e71ac3-67aa-4373-ad89-0d20f91de6f1",
   "metadata": {},
   "outputs": [],
   "source": [
    "df.shape"
   ]
  },
  {
   "cell_type": "markdown",
   "id": "ea6e31a1-9466-47a6-91f8-8f3753bd7d8d",
   "metadata": {},
   "source": [
    "### Data Processing"
   ]
  },
  {
   "cell_type": "code",
   "execution_count": null,
   "id": "48dbfcea-923c-42c7-ad01-e0e065f8da3d",
   "metadata": {},
   "outputs": [],
   "source": [
    "df.info()"
   ]
  },
  {
   "cell_type": "code",
   "execution_count": null,
   "id": "a12d6c3d-589f-4129-99eb-07623c710a29",
   "metadata": {},
   "outputs": [],
   "source": [
    "df.isnull().sum() #checking null values"
   ]
  },
  {
   "cell_type": "code",
   "execution_count": null,
   "id": "40e66f7f-ec2a-4d82-9984-a8ff7c5eb188",
   "metadata": {},
   "outputs": [],
   "source": [
    "df1 = df.dropna()"
   ]
  },
  {
   "cell_type": "code",
   "execution_count": null,
   "id": "a8621c9b-3f0a-41c8-a330-dd9ab5652c99",
   "metadata": {},
   "outputs": [],
   "source": [
    "df1.isnull().sum()"
   ]
  },
  {
   "cell_type": "code",
   "execution_count": null,
   "id": "f67d4fe1-cb2b-4f09-8a47-8758bd67b998",
   "metadata": {},
   "outputs": [],
   "source": [
    "df1.duplicated().sum()"
   ]
  },
  {
   "cell_type": "code",
   "execution_count": null,
   "id": "5907d4b3-efa3-4246-bc0a-2b7c52bf5f22",
   "metadata": {},
   "outputs": [],
   "source": [
    "df1.shape"
   ]
  },
  {
   "cell_type": "code",
   "execution_count": null,
   "id": "9ce74a80-b90d-4425-99fd-606b215595bb",
   "metadata": {},
   "outputs": [],
   "source": [
    "df1.columns"
   ]
  },
  {
   "cell_type": "code",
   "execution_count": null,
   "id": "05825734-b95a-47d0-a281-e7253e380561",
   "metadata": {},
   "outputs": [],
   "source": [
    "df1.info()"
   ]
  },
  {
   "cell_type": "code",
   "execution_count": null,
   "id": "d04012b2-4beb-4b0d-b010-e9adbcbbf33a",
   "metadata": {},
   "outputs": [],
   "source": [
    "df1.describe().T"
   ]
  },
  {
   "cell_type": "code",
   "execution_count": null,
   "id": "46867f88-e95e-4f54-8cc9-eef7d15c66d9",
   "metadata": {},
   "outputs": [],
   "source": [
    "df1.nunique()"
   ]
  },
  {
   "cell_type": "code",
   "execution_count": null,
   "id": "93cafe5b-e107-4599-a496-a448ace80799",
   "metadata": {},
   "outputs": [],
   "source": [
    "df1['genre'].value_counts()\n",
    "     "
   ]
  },
  {
   "cell_type": "code",
   "execution_count": null,
   "id": "30dd3cbc-3ed8-4065-8ed9-8684b96735b3",
   "metadata": {},
   "outputs": [],
   "source": [
    "import plotly.express as px\n",
    "\n",
    "\n",
    "fig = px.histogram(df1, x='rating', nbins=20, title='Distribution of Ratings')\n",
    "fig.update_layout(xaxis_title='Rating', yaxis_title='Frequency')\n",
    "fig.show()\n",
    "\n",
    "\n",
    "top_genres = df1['genre'].value_counts().index[:10]\n",
    "genre_counts = df1['genre'].value_counts().head(10)\n",
    "\n",
    "fig = px.bar(x=genre_counts, y=top_genres, orientation='h',\n",
    "             labels={'x': 'Count', 'y': 'Genre'},\n",
    "             title='Top 10 Genres Distribution')\n",
    "fig.show()"
   ]
  },
  {
   "cell_type": "code",
   "execution_count": null,
   "id": "b25e4e7a-972b-4f6b-8ce8-214dd44c9be4",
   "metadata": {},
   "outputs": [],
   "source": [
    "genres = df1['genre'].str.get_dummies(sep=', ')\n",
    "df_numerical = pd.concat([df1.drop('genre', axis=1), genres], axis=1)\n",
    "     "
   ]
  },
  {
   "cell_type": "code",
   "execution_count": null,
   "id": "a3863cfc-9a14-4017-b966-076fe7b75f07",
   "metadata": {},
   "outputs": [],
   "source": [
    "from sklearn.preprocessing import StandardScaler\n",
    "\n",
    "scaler = StandardScaler()\n",
    "numerical_cols = ['rating', 'members']\n",
    "df_numerical[numerical_cols] = scaler.fit_transform(df_numerical[numerical_cols])\n",
    "\n",
    "df_numerical.head()"
   ]
  },
  {
   "cell_type": "code",
   "execution_count": null,
   "id": "aa36f10e-bab7-4213-bc85-d537fc9aaded",
   "metadata": {},
   "outputs": [],
   "source": [
    "import plotly.graph_objs as go\n",
    "import plotly.express as px\n",
    "\n",
    "# Plot distribution of genres\n",
    "fig = px.bar(x=genre_counts.index, y=genre_counts.values,\n",
    "             labels={'x': 'Genres', 'y': 'Count'},\n",
    "             title='Distribution of Genres')\n",
    "fig.update_layout(xaxis={'categoryorder':'total descending'},\n",
    "                  xaxis_title='Genres', yaxis_title='Count')\n",
    "fig.show()\n",
    "\n",
    "# Plot distribution of scaled numerical features\n",
    "fig = go.Figure()\n",
    "\n",
    "# Distribution of Ratings\n",
    "fig.add_trace(go.Histogram(x=df_numerical['rating'],\n",
    "                            marker_color='skyblue',\n",
    "                            name='Rating'))\n",
    "# Distribution of Members\n",
    "fig.add_trace(go.Histogram(x=df_numerical['members'],\n",
    "                            marker_color='salmon',\n",
    "                            name='Members'))\n",
    "fig.update_layout(title='Distribution of Ratings and Members',\n",
    "                  xaxis_title='Value',\n",
    "                  yaxis_title='Frequency',\n",
    "                  barmode='overlay')\n",
    "fig.update_traces(opacity=0.75)\n",
    "fig.update_layout(showlegend=True)\n",
    "\n",
    "fig.show()"
   ]
  },
  {
   "cell_type": "code",
   "execution_count": null,
   "id": "29681af5-6fbe-417f-b495-d00188e889b7",
   "metadata": {},
   "outputs": [],
   "source": [
    "from sklearn.metrics.pairwise import cosine_similarity\n",
    "\n",
    "def recommend_similar_anime(target_anime, threshold=0.5):\n",
    "    # Find the row corresponding to the target anime\n",
    "    target_row = df_numerical[df_numerical['name'] == target_anime].drop(['name', 'type'], axis=1)\n",
    "\n",
    "    # Replace 'Unknown' values in 'episodes' column with NaN\n",
    "    df_numerical['episodes'] = pd.to_numeric(df_numerical['episodes'], errors='coerce')\n",
    "\n",
    "    # Drop rows with NaN values in 'episodes' column\n",
    "    df_numerical.dropna(subset=['episodes'], inplace=True)\n",
    "\n",
    "    # Compute cosine similarity between target anime and all other anime\n",
    "    similarities = cosine_similarity(target_row, df_numerical.drop(['name', 'type'], axis=1))\n",
    "\n",
    "    # Get indices of anime with similarity above threshold\n",
    "    similar_anime_indices = np.where(similarities > threshold)[1]\n",
    "\n",
    "    # Exclude the target anime itself from recommendations\n",
    "    similar_anime_indices = similar_anime_indices[similar_anime_indices != target_row.index[0]]\n",
    "\n",
    "    # Get names of recommended anime\n",
    "    recommended_anime = df_numerical.iloc[similar_anime_indices]['name'].tolist()\n",
    "\n",
    "    return recommended_anime"
   ]
  },
  {
   "cell_type": "code",
   "execution_count": null,
   "id": "67ed96d1-3cff-489a-aea3-a03f35ec2fe3",
   "metadata": {},
   "outputs": [],
   "source": [
    "threshold_values = [0.2, 0.5, 0.9]\n",
    "target_anime = 'Nana'\n",
    "\n",
    "for threshold in threshold_values:\n",
    "    # Get recommendations for the current threshold\n",
    "    recommended_anime = recommend_similar_anime(target_anime, threshold=threshold)\n",
    "\n",
    "    # Create a DataFrame to display the recommended anime\n",
    "    df_recommendations = pd.DataFrame(recommended_anime, columns=['Recommended Anime'])\n",
    "\n",
    "    # Add additional information\n",
    "    num_recommendations = len(recommended_anime)\n",
    "    value_counts = df_recommendations['Recommended Anime'].value_counts()\n",
    "    top_5_recommendations = value_counts.head(5)\n",
    "\n",
    "    # Create pie chart of the top 5 recommendations\n",
    "    fig = px.pie(names=top_5_recommendations.index, values=top_5_recommendations.values,\n",
    "                 title=f'Top 5 recommendations for threshold {threshold}',\n",
    "                 labels={'names': 'Anime', 'values': 'Count'})\n",
    "    fig.update_traces(textposition='inside', textinfo='percent+label')\n",
    "    fig.show()\n",
    "\n",
    "    # Display the information for the current threshold\n",
    "    print(f\"\\nRecommendations for threshold {threshold}:\")\n",
    "    print(\"Recommended anime similar to '{}':\".format(target_anime))\n",
    "    print(df_recommendations)\n",
    "    print(\"\\nNumber of recommendations:\", num_recommendations)\n",
    "    print(\"\\nValue counts of recommended anime:\")\n",
    "    print(value_counts)\n",
    "    print(\"\\nTop 5 recommendations:\")\n",
    "    print(top_5_recommendations)\n"
   ]
  },
  {
   "cell_type": "code",
   "execution_count": null,
   "id": "add9e93e-8c1c-4c73-a662-bd7793ee6344",
   "metadata": {},
   "outputs": [],
   "source": [
    "threshold_values = [0.2, 0.5, 0.9]\n",
    "target_anime = 'Kimi no Na wa.'\n",
    "\n",
    "for threshold in threshold_values:\n",
    "    # Get recommendations for the current threshold\n",
    "    recommended_anime = recommend_similar_anime(target_anime, threshold=threshold)\n",
    "\n",
    "    # Create a DataFrame to display the recommended anime\n",
    "    df_recommendations = pd.DataFrame(recommended_anime, columns=['Recommended Anime'])\n",
    "\n",
    "    # Add additional information\n",
    "    num_recommendations = len(recommended_anime)\n",
    "    value_counts = df_recommendations['Recommended Anime'].value_counts()\n",
    "    top_5_recommendations = value_counts.head(5)\n",
    "\n",
    "    # Create pie chart of the top 5 recommendations\n",
    "    fig = px.pie(names=top_5_recommendations.index, values=top_5_recommendations.values,\n",
    "                 title=f'Top 5 recommendations for threshold {threshold}',\n",
    "                 labels={'names': 'Anime', 'values': 'Count'})\n",
    "    fig.update_traces(textposition='inside', textinfo='percent+label')\n",
    "    fig.show()\n",
    "\n",
    "    # Display the information for the current threshold\n",
    "    print(f\"\\nRecommendations for threshold {threshold}:\")\n",
    "    print(\"Recommended anime similar to '{}':\".format(target_anime))\n",
    "    print(df_recommendations)\n",
    "    print(\"\\nNumber of recommendations:\", num_recommendations)\n",
    "    print(\"\\nValue counts of recommended anime:\")\n",
    "    print(value_counts)\n",
    "    print(\"\\nTop 5 recommendations:\")\n",
    "    print(top_5_recommendations)"
   ]
  },
  {
   "cell_type": "code",
   "execution_count": null,
   "id": "237d7bab-2d30-4032-944b-a13ac0b495a3",
   "metadata": {},
   "outputs": [],
   "source": [
    "pd.set_option('display.max_columns', None)\n",
    "df_numerical.head()"
   ]
  },
  {
   "cell_type": "code",
   "execution_count": null,
   "id": "f4fb8052-8645-4233-9d5e-0be5d8e4a540",
   "metadata": {},
   "outputs": [],
   "source": [
    "df_numerical.describe()"
   ]
  },
  {
   "cell_type": "code",
   "execution_count": null,
   "id": "b1871b99-55d2-4d04-8a78-6aeb43f74b5f",
   "metadata": {},
   "outputs": [],
   "source": [
    "# Calculate mean and standard deviation for episodes, rating, and members\n",
    "mean_episodes = 12.486729\n",
    "mean_rating = 0.006197\n",
    "mean_members = 0.002928\n",
    "\n",
    "std_dev_episodes = np.std(df_numerical['episodes'])\n",
    "std_dev_rating = np.std(df_numerical['rating'])\n",
    "std_dev_members = np.std(df_numerical['members'])\n",
    "\n",
    "# Set threshold values\n",
    "episodes_threshold = mean_episodes + std_dev_episodes\n",
    "rating_threshold = mean_rating + std_dev_rating\n",
    "members_threshold = mean_members + std_dev_members\n",
    "\n",
    "print(\"Threshold values:\")\n",
    "print(\"Episodes threshold:\", episodes_threshold)\n",
    "print(\"Rating threshold:\", rating_threshold)\n",
    "print(\"Members threshold:\", members_threshold)"
   ]
  },
  {
   "cell_type": "code",
   "execution_count": null,
   "id": "404c938a-5716-4b26-b763-ada15c4a3d83",
   "metadata": {},
   "outputs": [],
   "source": [
    "# Define threshold values for ratings, episodes, and members\n",
    "rating_threshold = 1.001596873109577\n",
    "episodes_threshold = 59.58186967572351\n",
    "members_threshold = 1.0029082457034968\n",
    "\n",
    "# Create binary target variable based on thresholds\n",
    "df_numerical['liked'] = ((df_numerical['rating'] >= rating_threshold) |\n",
    "                         (df_numerical['episodes'] >= episodes_threshold) |\n",
    "                         (df_numerical['members'] >= members_threshold)).astype(int)\n",
    "\n",
    "# Display the updated dataset with the new 'liked' column\n",
    "df_numerical.head()"
   ]
  },
  {
   "cell_type": "code",
   "execution_count": null,
   "id": "09ad64ad-2039-4e71-b4b4-8916ddab7f3f",
   "metadata": {},
   "outputs": [],
   "source": [
    "print(df_numerical['liked'].value_counts())\n",
    "     "
   ]
  },
  {
   "cell_type": "code",
   "execution_count": null,
   "id": "ef370c13-ee01-49b8-941b-2349a1e6d38f",
   "metadata": {},
   "outputs": [],
   "source": [
    "# Calculate value counts for the 'liked' column\n",
    "liked_counts = df_numerical['liked'].value_counts()\n",
    "\n",
    "# Plot bar plot\n",
    "fig = px.bar(x=liked_counts.index, y=liked_counts.values,\n",
    "             labels={'x': 'Liked', 'y': 'Count'},\n",
    "             title='Distribution of Liked/Not Liked Animes')\n",
    "fig.update_layout(xaxis={'categoryorder':'total descending'},\n",
    "                  xaxis_title='Liked', yaxis_title='Count')\n",
    "fig.show()"
   ]
  },
  {
   "cell_type": "code",
   "execution_count": null,
   "id": "d18b7da1-9932-4fca-b43d-a7c2e26ee344",
   "metadata": {},
   "outputs": [],
   "source": [
    "from sklearn.model_selection import train_test_split\n",
    "\n",
    "X = df_numerical.drop(['name', 'type','anime_id'], axis=1)  # Features\n",
    "y = df_numerical['liked']  # Target variable\n",
    "\n",
    "# Split the dataset into training and testing sets\n",
    "X_train, X_test, y_train, y_test = train_test_split(X, y, test_size=0.2, random_state=42)\n",
    "\n",
    "# Display the shapes of the training and testing sets\n",
    "print(\"Shape of X_train:\", X_train.shape)\n",
    "print(\"Shape of X_test:\", X_test.shape)\n",
    "print(\"Shape of y_train:\", y_train.shape)\n",
    "print(\"Shape of y_test:\", y_test.shape)\n",
    "     "
   ]
  },
  {
   "cell_type": "code",
   "execution_count": null,
   "id": "9e2b81cf-cb71-4f53-9775-9f34a1792852",
   "metadata": {},
   "outputs": [],
   "source": [
    "from sklearn.metrics import accuracy_score\n",
    "from sklearn.ensemble import RandomForestClassifier  # Example model\n",
    "from sklearn.preprocessing import StandardScaler\n",
    "from sklearn.model_selection import train_test_split\n",
    "from sklearn.datasets import load_iris\n",
    "\n",
    "# Load dataset (example: Iris dataset)\n",
    "data = load_iris()\n",
    "X, y = data.data, data.target\n",
    "\n",
    "# Split the data\n",
    "X_train, X_test, y_train, y_test = train_test_split(X, y, test_size=0.2, random_state=42)\n",
    "\n",
    "# Scale the data\n",
    "scaler = StandardScaler()\n",
    "X_train_scaled = scaler.fit_transform(X_train)\n",
    "X_test_scaled = scaler.transform(X_test)\n",
    "\n",
    "# Define and train the model\n",
    "model = RandomForestClassifier(random_state=42)  # You can replace this with your model\n",
    "model.fit(X_train_scaled, y_train)\n",
    "\n",
    "# Make predictions\n",
    "y_pred = model.predict(X_test_scaled)\n",
    "\n",
    "# Calculate accuracy\n",
    "accuracy = accuracy_score(y_test, y_pred)\n",
    "print(\"Accuracy:\", accuracy)\n"
   ]
  },
  {
   "cell_type": "code",
   "execution_count": null,
   "id": "9032eaa6-fb2d-43ac-a8d2-d26df482eec5",
   "metadata": {},
   "outputs": [],
   "source": [
    "from sklearn.linear_model import LogisticRegression\n",
    "from sklearn.preprocessing import StandardScaler\n",
    "from sklearn.metrics import precision_score, recall_score, f1_score\n",
    "\n",
    "# Scale the features\n",
    "scaler = StandardScaler()\n",
    "X_train_scaled = scaler.fit_transform(X_train)\n",
    "X_test_scaled = scaler.transform(X_test)\n",
    "\n",
    "# Train a binary classification model (logistic regression) using the scaled training set\n",
    "model = LogisticRegression()\n",
    "model.fit(X_train_scaled, y_train)\n",
    "\n",
    "# Make predictions on the scaled testing set\n",
    "y_pred = model.predict(X_test_scaled)\n",
    "\n",
    "# Calculate precision, recall, and F1-score\n",
    "precision = precision_score(y_test, y_pred)\n",
    "recall = recall_score(y_test, y_pred)\n",
    "f1 = f1_score(y_test, y_pred)\n",
    "\n",
    "print(\"Precision:\", precision)\n",
    "print(\"Recall:\", recall)\n",
    "print(\"F1-score:\", f1)\n",
    "     "
   ]
  }
 ],
 "metadata": {
  "kernelspec": {
   "display_name": "Python 3 (ipykernel)",
   "language": "python",
   "name": "python3"
  },
  "language_info": {
   "codemirror_mode": {
    "name": "ipython",
    "version": 3
   },
   "file_extension": ".py",
   "mimetype": "text/x-python",
   "name": "python",
   "nbconvert_exporter": "python",
   "pygments_lexer": "ipython3",
   "version": "3.12.6"
  }
 },
 "nbformat": 4,
 "nbformat_minor": 5
}
