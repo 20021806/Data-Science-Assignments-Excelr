{
 "cells": [
  {
   "cell_type": "markdown",
   "id": "4f1193f9-0a11-4f08-83e9-475fba55b73c",
   "metadata": {},
   "source": [
    "### Assignment-12 DATA PREPROCESSING AND FEATURE ENGINEERING IN MACHINE LEARNING"
   ]
  },
  {
   "cell_type": "code",
   "execution_count": null,
   "id": "1e46b2f1-9067-4747-bd9c-e8a3717a3185",
   "metadata": {},
   "outputs": [],
   "source": [
    "import pandas as pd\n",
    "import numpy as np\n",
    "import matplotlib.pyplot as plt\n",
    "import seaborn as sns\n",
    "from scipy import stats"
   ]
  },
  {
   "cell_type": "code",
   "execution_count": null,
   "id": "ae89f336-9a15-46d1-bd7d-c1a229b80c2a",
   "metadata": {},
   "outputs": [],
   "source": [
    "df = pd.read_csv('adult_with_headers.csv')"
   ]
  },
  {
   "cell_type": "code",
   "execution_count": null,
   "id": "cfff0c47-cf99-4d7a-b30b-02390aa21d30",
   "metadata": {},
   "outputs": [],
   "source": [
    "print(\"Dataset Information:\")\n",
    "df.info()\n",
    "     "
   ]
  },
  {
   "cell_type": "code",
   "execution_count": null,
   "id": "70e223dd-ea60-4657-990a-ef73a72e9b2d",
   "metadata": {},
   "outputs": [],
   "source": [
    "unique_values = df.nunique()\n",
    "print(\"Number of unique values in each column:\")\n",
    "print(unique_values)"
   ]
  },
  {
   "cell_type": "code",
   "execution_count": null,
   "id": "88e5f5ad-0f7b-42a2-ab14-47e05b88a653",
   "metadata": {},
   "outputs": [],
   "source": [
    "print(\"\\nSummary Statistics:\")\n",
    "df.describe()"
   ]
  },
  {
   "cell_type": "code",
   "execution_count": null,
   "id": "2c2bd64d-e751-47a5-b320-105873e9721d",
   "metadata": {},
   "outputs": [],
   "source": [
    "print(\"\\nMissing Values:\")\n",
    "print(df.isnull().sum())"
   ]
  },
  {
   "cell_type": "code",
   "execution_count": null,
   "id": "91e45684-f0f5-4ab8-b4d3-34e26f0fa822",
   "metadata": {},
   "outputs": [],
   "source": [
    "print(\"\\nData Types:\")\n",
    "print(df.dtypes)"
   ]
  },
  {
   "cell_type": "code",
   "execution_count": null,
   "id": "aa62887c-5c90-43ed-bba1-92e6da837619",
   "metadata": {},
   "outputs": [],
   "source": [
    "print(\"\\nDuplicate Values:\")\n",
    "print(df.duplicated().sum())"
   ]
  },
  {
   "cell_type": "code",
   "execution_count": null,
   "id": "9d1d6947-0d8e-464d-acb8-5cb0be0f858d",
   "metadata": {},
   "outputs": [],
   "source": [
    "df[df.duplicated()]"
   ]
  },
  {
   "cell_type": "code",
   "execution_count": null,
   "id": "efa4cb69-5ab8-4585-879a-7ce1514fc886",
   "metadata": {},
   "outputs": [],
   "source": [
    "df = df.drop_duplicates()"
   ]
  },
  {
   "cell_type": "code",
   "execution_count": null,
   "id": "977ae5e3-8247-4ae6-8120-8bcf4f592823",
   "metadata": {},
   "outputs": [],
   "source": [
    "print(\"\\nDuplicate Values:\")\n",
    "print(df.duplicated().sum())\n",
    "     "
   ]
  },
  {
   "cell_type": "code",
   "execution_count": null,
   "id": "bdba9430-f2f8-43c5-a343-3e99ef8341aa",
   "metadata": {},
   "outputs": [],
   "source": [
    "from sklearn.preprocessing import StandardScaler, MinMaxScaler\n",
    "numerical_features = df.select_dtypes(include=['float64', 'int64']).columns\n",
    "scaler_standard = StandardScaler()\n",
    "df[numerical_features] = scaler_standard.fit_transform(df[numerical_features])\n",
    "scaler_minmax = MinMaxScaler()\n",
    "df[numerical_features] = scaler_minmax.fit_transform(df[numerical_features])\n",
    "     \n",
    "     \n",
    "     \n",
    "     "
   ]
  },
  {
   "cell_type": "code",
   "execution_count": null,
   "id": "cc77680a-c6eb-411e-ac1a-ec822b99eabd",
   "metadata": {},
   "outputs": [],
   "source": [
    "from sklearn.preprocessing import OneHotEncoder\n",
    "\n",
    "# Initialize one-hot encoder\n",
    "one_hot_encoder = OneHotEncoder(drop='first', sparse_output=False)\n",
    "\n",
    "# Identify categorical columns with less than 5 categories\n",
    "categorical_columns = df.select_dtypes(include=['object']).columns\n",
    "columns_to_encode = [col for col in categorical_columns if df[col].nunique() < 5]\n",
    "\n",
    "# Apply one-hot encoding to selected columns\n",
    "for col in columns_to_encode:\n",
    "    print(f\"One-hot encoding column: {col}\")\n",
    "    encoded_features = one_hot_encoder.fit_transform(df[[col]])\n",
    "    # Update column names with encoded feature names\n",
    "    encoded_feature_names = [f\"{col}_{cat}\" for cat in one_hot_encoder.categories_[0][1:]]\n",
    "    encoded_df = pd.DataFrame(encoded_features, columns=encoded_feature_names)\n",
    "    # Drop original categorical column and concatenate encoded features\n",
    "    df.drop(columns=[col], inplace=True)\n",
    "    df = pd.concat([df, encoded_df], axis=1)\n",
    "\n",
    "df.head()\n"
   ]
  },
  {
   "cell_type": "code",
   "execution_count": null,
   "id": "208a6291-0a3d-4253-8f0b-037c056899e6",
   "metadata": {},
   "outputs": [],
   "source": [
    "from sklearn.preprocessing import LabelEncoder\n",
    "\n",
    "# Initialize label encoder\n",
    "label_encoder = LabelEncoder()\n",
    "\n",
    "# Identify categorical columns with more than 5 categories\n",
    "categorical_columns = df.select_dtypes(include=['object']).columns\n",
    "columns_to_encode = [col for col in categorical_columns if df[col].nunique() >= 5]\n",
    "\n",
    "# Apply label encoding to selected columns\n",
    "for col in columns_to_encode:\n",
    "    print(f\"Label encoding column: {col}\")\n",
    "    df[col] = label_encoder.fit_transform(df[col])\n",
    "\n",
    "df.head()"
   ]
  },
  {
   "cell_type": "code",
   "execution_count": null,
   "id": "49679e9e-3abe-43d3-b272-5218641c6b01",
   "metadata": {},
   "outputs": [],
   "source": [
    "df['income_per_hour'] = (df['income_ >50K'] - df['capital_loss']) / df['hours_per_week']\n",
    "df['total_capital_gain_loss'] = df['capital_gain'] - df['capital_loss']\n",
    "df.head()\n",
    "     "
   ]
  },
  {
   "cell_type": "code",
   "execution_count": null,
   "id": "2ca44b40-f077-4cc6-a774-121bfd6db153",
   "metadata": {},
   "outputs": [],
   "source": [
    "from scipy.stats import skew\n",
    "\n",
    "# Select numerical columns\n",
    "numerical_columns = df.select_dtypes(include=['int64', 'float64']).columns\n",
    "\n",
    "# Calculate skewness for each numerical column\n",
    "skewness = df[numerical_columns].apply(lambda x: skew(x.dropna()))\n",
    "\n",
    "# Filter columns with right skewness (skewness > 0)\n",
    "right_skewed_columns = skewness[skewness > 0].index\n",
    "\n",
    "# Display columns with right skewness and their skewness values\n",
    "for col in right_skewed_columns:\n",
    "    print(f\"Column '{col}' has skewness of {skewness[col]} (right skew)\")\n"
   ]
  },
  {
   "cell_type": "code",
   "execution_count": null,
   "id": "555a6178-faa8-4fdc-a0a9-d10a163d47c7",
   "metadata": {},
   "outputs": [],
   "source": [
    "import plotly.express as px\n",
    "\n",
    "# Calculate skewness for each numerical column\n",
    "skewness = df[numerical_columns].apply(lambda x: skew(x.dropna()))\n",
    "\n",
    "# Filter columns with right skewness (skewness > 0)\n",
    "right_skewed_columns = skewness[skewness > 0].index\n",
    "\n",
    "# Create a DataFrame for plotting\n",
    "skewness_df = pd.DataFrame({'Column': right_skewed_columns, 'Skewness': skewness[right_skewed_columns]})\n",
    "\n",
    "# Create an interactive bar plot\n",
    "fig = px.bar(skewness_df, x='Column', y='Skewness',\n",
    "             title='Skewness of Numerical Columns (Right Skewed)',\n",
    "             labels={'Skewness': 'Skewness'},\n",
    "             color='Skewness',\n",
    "             color_continuous_scale='RdYlBu')\n",
    "\n",
    "# Update layout for better visualization\n",
    "fig.update_layout(xaxis_title='Column', yaxis_title='Skewness',\n",
    "                  coloraxis_colorbar=dict(title='Skewness'))\n",
    "\n",
    "fig.show()"
   ]
  },
  {
   "cell_type": "code",
   "execution_count": null,
   "id": "8bc3af5a-94eb-4387-b3c3-68f0d56dd2f3",
   "metadata": {},
   "outputs": [],
   "source": [
    "original_skewness = df['capital_gain'].skew()\n",
    "print(\"Original Skewness of 'capital_gain':\", original_skewness)\n",
    "     "
   ]
  },
  {
   "cell_type": "code",
   "execution_count": null,
   "id": "2bfb51dd-1f66-4e5e-b7d1-6f74ec57cb8c",
   "metadata": {},
   "outputs": [],
   "source": [
    "df['capital_gain_log'] = np.log1p(df['capital_gain'])\n",
    "     "
   ]
  },
  {
   "cell_type": "code",
   "execution_count": null,
   "id": "9420f336-859e-44b3-b4cd-a00c687d2b38",
   "metadata": {},
   "outputs": [],
   "source": [
    "transformed_skewness = df['capital_gain_log'].skew()\n",
    "print(\"Skewness of 'capital_gain' after Log Transformation:\", transformed_skewness)"
   ]
  },
  {
   "cell_type": "code",
   "execution_count": null,
   "id": "9e68d5f1-5891-4bcc-9923-ca14792c20c1",
   "metadata": {},
   "outputs": [],
   "source": [
    "import plotly.express as px\n",
    "\n",
    "numerical_columns = df.select_dtypes(include=['int64', 'float64']).columns\n",
    "\n",
    "fig = px.box(df, y=numerical_columns, title='Box plot of Numerical Columns')\n",
    "fig.update_layout(xaxis_title='Column', yaxis_title='Value', yaxis=dict(type='linear'))\n",
    "fig.show()"
   ]
  },
  {
   "cell_type": "code",
   "execution_count": null,
   "id": "5432aa42-dae8-47ca-8846-db4645516b51",
   "metadata": {},
   "outputs": [],
   "source": []
  }
 ],
 "metadata": {
  "kernelspec": {
   "display_name": "Python 3 (ipykernel)",
   "language": "python",
   "name": "python3"
  },
  "language_info": {
   "codemirror_mode": {
    "name": "ipython",
    "version": 3
   },
   "file_extension": ".py",
   "mimetype": "text/x-python",
   "name": "python",
   "nbconvert_exporter": "python",
   "pygments_lexer": "ipython3",
   "version": "3.12.6"
  }
 },
 "nbformat": 4,
 "nbformat_minor": 5
}
