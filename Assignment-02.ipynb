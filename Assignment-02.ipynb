{
 "cells": [
  {
   "cell_type": "markdown",
   "id": "8ebf9496-9c72-4bd0-9e76-310b40381fee",
   "metadata": {},
   "source": [
    "                                                              Assignment-02"
   ]
  },
  {
   "cell_type": "code",
   "execution_count": 4,
   "id": "47ed325e-9121-46ee-b067-ace61fdf91ee",
   "metadata": {},
   "outputs": [
    {
     "name": "stdout",
     "output_type": "stream",
     "text": [
      "99% Confidence Interval using t-distribution: (1.0902, 1.3871)\n",
      "99% Confidence Interval using z-distribution: (1.1057, 1.3717)\n"
     ]
    }
   ],
   "source": [
    "import numpy as np\n",
    "import scipy.stats as stats\n",
    "\n",
    "# Given data\n",
    "data = np.array([1.13, 1.55, 1.43, 0.92, 1.25, 1.36, 1.32, 0.85, 1.07, 1.48, \n",
    "                 1.20, 1.33, 1.18, 1.22, 1.29])\n",
    "n = len(data)\n",
    "\n",
    "# Sample statistics\n",
    "sample_mean = np.mean(data)\n",
    "sample_std = np.std(data, ddof=1)  # Sample standard deviation\n",
    "\n",
    "# 99% Confidence Interval using t-distribution (Unknown Population Std Dev)\n",
    "alpha = 0.01\n",
    "df = n - 1\n",
    "t_critical = stats.t.ppf(1 - alpha/2, df)\n",
    "\n",
    "margin_of_error_t = t_critical * (sample_std / np.sqrt(n))\n",
    "ci_t_lower = sample_mean - margin_of_error_t\n",
    "ci_t_upper = sample_mean + margin_of_error_t\n",
    "\n",
    "print(f\"99% Confidence Interval using t-distribution: ({ci_t_lower:.4f}, {ci_t_upper:.4f})\")\n",
    "\n",
    "# 99% Confidence Interval using z-distribution (Known Population Std Dev)\n",
    "pop_std = 0.2  # Given population standard deviation\n",
    "z_critical = stats.norm.ppf(1 - alpha/2)\n",
    "\n",
    "margin_of_error_z = z_critical * (pop_std / np.sqrt(n))\n",
    "ci_z_lower = sample_mean - margin_of_error_z\n",
    "ci_z_upper = sample_mean + margin_of_error_z\n",
    "\n",
    "print(f\"99% Confidence Interval using z-distribution: ({ci_z_lower:.4f}, {ci_z_upper:.4f})\")\n"
   ]
  },
  {
   "cell_type": "code",
   "execution_count": null,
   "id": "156fab09-5701-4863-a93b-27c85c8fc1d8",
   "metadata": {},
   "outputs": [],
   "source": []
  }
 ],
 "metadata": {
  "kernelspec": {
   "display_name": "Python 3 (ipykernel)",
   "language": "python",
   "name": "python3"
  },
  "language_info": {
   "codemirror_mode": {
    "name": "ipython",
    "version": 3
   },
   "file_extension": ".py",
   "mimetype": "text/x-python",
   "name": "python",
   "nbconvert_exporter": "python",
   "pygments_lexer": "ipython3",
   "version": "3.12.6"
  }
 },
 "nbformat": 4,
 "nbformat_minor": 5
}
