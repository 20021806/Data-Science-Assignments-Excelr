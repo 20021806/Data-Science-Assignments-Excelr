{
 "cells": [
  {
   "cell_type": "markdown",
   "id": "e0f99577-83e3-4fd7-943f-992eb3a0536f",
   "metadata": {},
   "source": [
    "### Assignment-03  Basics of Python"
   ]
  },
  {
   "cell_type": "markdown",
   "id": "e0ed615c-3a66-454f-98c3-5cfe04ec5499",
   "metadata": {},
   "source": [
    "## Exercise 1: Prime Numbers"
   ]
  },
  {
   "cell_type": "code",
   "execution_count": 3,
   "id": "e57cc557-3182-4108-9167-fa3973138faa",
   "metadata": {},
   "outputs": [
    {
     "name": "stdin",
     "output_type": "stream",
     "text": [
      "Enter a number:  6\n"
     ]
    },
    {
     "name": "stdout",
     "output_type": "stream",
     "text": [
      "number is not a prime number.\n"
     ]
    }
   ],
   "source": [
    "def is_prime(n):\n",
    "   # Early elimination for numbers less than 2\n",
    "    if n <= 1:\n",
    "        return False\n",
    "\n",
    "    # Check divisibility from 2 up to the square root of n\n",
    "    for i in range(2, int(n**0.5) + 1):\n",
    "        if n % i == 0:\n",
    "            return False\n",
    "\n",
    "    return True\n",
    "\n",
    "# Example usage\n",
    "number = int(input(\"Enter a number: \"))\n",
    "if is_prime(number):\n",
    "    print(\"number is a prime number.\")\n",
    "else:\n",
    "    print(\"number is not a prime number.\")"
   ]
  },
  {
   "cell_type": "markdown",
   "id": "3ac2387f-37a6-40e2-a21f-334a6454ec45",
   "metadata": {},
   "source": [
    "## Exercise 2: Product of Random Numbers "
   ]
  },
  {
   "cell_type": "code",
   "execution_count": 11,
   "id": "da66f0de-ba7e-4fb7-809f-6ee9fb5a4487",
   "metadata": {},
   "outputs": [
    {
     "name": "stdout",
     "output_type": "stream",
     "text": [
      "Please multiply the following numbers: 74 and 32\n"
     ]
    },
    {
     "name": "stdin",
     "output_type": "stream",
     "text": [
      "Enter the product:  2368\n"
     ]
    },
    {
     "name": "stdout",
     "output_type": "stream",
     "text": [
      "Correct! Well done.\n"
     ]
    }
   ],
   "source": [
    "# Correct One\n",
    "import random\n",
    "\n",
    "def generate_random_numbers():\n",
    "    \"\"\"Generate two random integers between 1 and 100.\"\"\"\n",
    "    num1 = random.randint(1, 100)\n",
    "    num2 = random.randint(1, 100)\n",
    "    return num1, num2\n",
    "\n",
    "def main():\n",
    "    # Generate two random numbers\n",
    "    num1, num2 = generate_random_numbers()\n",
    "\n",
    "    # Calculate the correct product\n",
    "    correct_product = num1 * num2\n",
    "\n",
    "    # Prompt the user to enter the product\n",
    "    print(f\"Please multiply the following numbers: {num1} and {num2}\")\n",
    "    user_input = input(\"Enter the product: \")\n",
    "\n",
    "    # Check if the user's input is correct\n",
    "    try:\n",
    "        user_product = int(user_input)\n",
    "        if user_product == correct_product:\n",
    "            print(\"Correct! Well done.\")\n",
    "        else:\n",
    "            print(f\"Incorrect. The correct product is {correct_product}.\")\n",
    "    except ValueError:\n",
    "        print(\"Invalid input. Please enter a valid integer.\")\n",
    "\n",
    "if __name__ == \"__main__\":\n",
    "    main()"
   ]
  },
  {
   "cell_type": "code",
   "execution_count": 12,
   "id": "643eb872-bbb7-40c1-8a56-9a1f966fc79d",
   "metadata": {},
   "outputs": [
    {
     "name": "stdout",
     "output_type": "stream",
     "text": [
      "Please multiply the following numbers: 73 and 50\n"
     ]
    },
    {
     "name": "stdin",
     "output_type": "stream",
     "text": [
      "Enter the product:  7890\n"
     ]
    },
    {
     "name": "stdout",
     "output_type": "stream",
     "text": [
      "Incorrect. The correct product is 3650.\n"
     ]
    }
   ],
   "source": [
    "#Incorrect One\n",
    "import random\n",
    "\n",
    "def generate_random_numbers():\n",
    "    \"\"\"Generate two random integers between 1 and 100.\"\"\"\n",
    "    num1 = random.randint(1, 100)\n",
    "    num2 = random.randint(1, 100)\n",
    "    return num1, num2\n",
    "\n",
    "def main():\n",
    "    # Generate two random numbers\n",
    "    num1, num2 = generate_random_numbers()\n",
    "\n",
    "    # Calculate the correct product\n",
    "    correct_product = num1 * num2\n",
    "\n",
    "    # Prompt the user to enter the product\n",
    "    print(f\"Please multiply the following numbers: {num1} and {num2}\")\n",
    "    user_input = input(\"Enter the product: \")\n",
    "\n",
    "    # Check if the user's input is correct\n",
    "    try:\n",
    "        user_product = int(user_input)\n",
    "        if user_product == correct_product:\n",
    "            print(\"Correct! Well done.\")\n",
    "        else:\n",
    "            print(f\"Incorrect. The correct product is {correct_product}.\")\n",
    "    except ValueError:\n",
    "        print(\"Invalid input. Please enter a valid integer.\")\n",
    "\n",
    "if __name__ == \"__main__\":\n",
    "    main()"
   ]
  },
  {
   "cell_type": "markdown",
   "id": "a7cb0a41-d906-4373-ac56-0f22ab60781b",
   "metadata": {},
   "source": [
    "## Exercise 3: Squares of Even/Odd Numbers"
   ]
  },
  {
   "cell_type": "code",
   "execution_count": 16,
   "id": "7225608f-e9fc-43db-aa28-606c0cd7dc79",
   "metadata": {},
   "outputs": [
    {
     "name": "stdout",
     "output_type": "stream",
     "text": [
      "The square of 100 is 10000\n",
      "The square of 102 is 10404\n",
      "The square of 104 is 10816\n",
      "The square of 106 is 11236\n",
      "The square of 108 is 11664\n",
      "The square of 110 is 12100\n",
      "The square of 112 is 12544\n",
      "The square of 114 is 12996\n",
      "The square of 116 is 13456\n",
      "The square of 118 is 13924\n",
      "The square of 120 is 14400\n",
      "The square of 122 is 14884\n",
      "The square of 124 is 15376\n",
      "The square of 126 is 15876\n",
      "The square of 128 is 16384\n",
      "The square of 130 is 16900\n",
      "The square of 132 is 17424\n",
      "The square of 134 is 17956\n",
      "The square of 136 is 18496\n",
      "The square of 138 is 19044\n",
      "The square of 140 is 19600\n",
      "The square of 142 is 20164\n",
      "The square of 144 is 20736\n",
      "The square of 146 is 21316\n",
      "The square of 148 is 21904\n",
      "The square of 150 is 22500\n",
      "The square of 152 is 23104\n",
      "The square of 154 is 23716\n",
      "The square of 156 is 24336\n",
      "The square of 158 is 24964\n",
      "The square of 160 is 25600\n",
      "The square of 162 is 26244\n",
      "The square of 164 is 26896\n",
      "The square of 166 is 27556\n",
      "The square of 168 is 28224\n",
      "The square of 170 is 28900\n",
      "The square of 172 is 29584\n",
      "The square of 174 is 30276\n",
      "The square of 176 is 30976\n",
      "The square of 178 is 31684\n",
      "The square of 180 is 32400\n",
      "The square of 182 is 33124\n",
      "The square of 184 is 33856\n",
      "The square of 186 is 34596\n",
      "The square of 188 is 35344\n",
      "The square of 190 is 36100\n",
      "The square of 192 is 36864\n",
      "The square of 194 is 37636\n",
      "The square of 196 is 38416\n",
      "The square of 198 is 39204\n",
      "The square of 200 is 40000\n"
     ]
    }
   ],
   "source": [
    "def print_even_squares(start,end):\n",
    "    for number in range(start,end+1):\n",
    "        if number%2==0:# Check if the number is even\n",
    "            print(f\"The square of {number} is {number**2}\")\n",
    "def main():\n",
    "    # Define the range\n",
    "    start=100\n",
    "    end=200\n",
    "    # Print squares of even numbers in the specified range\n",
    "    print_even_squares(start, end)\n",
    "\n",
    "if __name__ == \"__main__\":\n",
    "    main()\n"
   ]
  },
  {
   "cell_type": "markdown",
   "id": "8c726f37-decf-4022-9974-a167768e129b",
   "metadata": {},
   "source": [
    "## Exercise 4: Word counter"
   ]
  },
  {
   "cell_type": "code",
   "execution_count": 17,
   "id": "c44d1093-71e3-44ac-bdfc-8d59ef27c90c",
   "metadata": {},
   "outputs": [
    {
     "name": "stdout",
     "output_type": "stream",
     "text": [
      "'this': 2\n",
      "'is': 1\n",
      "'a': 1\n",
      "'sample': 1\n",
      "'text': 2\n",
      "'will': 1\n",
      "'be': 1\n",
      "'used': 1\n",
      "'to': 1\n",
      "'demonstrate': 1\n",
      "'the': 1\n",
      "'word': 1\n",
      "'counter': 1\n"
     ]
    }
   ],
   "source": [
    "def count_words(text):\n",
    "    \n",
    "    # Remove punctuation and convert text to lowercase for case-insensitive counting\n",
    "    text = text.lower()\n",
    "\n",
    "    # Replace punctuation with spaces\n",
    "    for char in '.,!?;:()[]{}\"\\'\\\\/-':\n",
    "        text = text.replace(char, \" \")\n",
    "\n",
    "    # Split the text into words\n",
    "    words = text.split()\n",
    "\n",
    "    # Initialize an empty dictionary to store word counts\n",
    "    word_count = {}\n",
    "\n",
    "    # Count the occurrences of each word\n",
    "    for word in words:\n",
    "        if word in word_count:\n",
    "            word_count[word] += 1\n",
    "        else:\n",
    "            word_count[word] = 1\n",
    "\n",
    "    return word_count\n",
    "\n",
    "def print_word_counts(word_count):\n",
    "   \n",
    "    for word, count in word_count.items():\n",
    "        print(f\"'{word}': {count}\")\n",
    "\n",
    "def main():\n",
    "    # Example input text\n",
    "    input_text = \"This is a sample text. This text will be used to demonstrate the word counter.\"\n",
    "\n",
    "    # Get the word counts\n",
    "    word_count = count_words(input_text)\n",
    "\n",
    "    # Print the word counts\n",
    "    print_word_counts(word_count)\n",
    "\n",
    "if __name__ == \"__main__\":\n",
    "    main()"
   ]
  },
  {
   "cell_type": "markdown",
   "id": "9966d75f-172b-4d9f-a7dc-c9180129862d",
   "metadata": {},
   "source": [
    "## Exercise 5: Check for Palindrome"
   ]
  },
  {
   "cell_type": "code",
   "execution_count": 19,
   "id": "f36099ea-119c-4403-ae19-2e6a1f884d28",
   "metadata": {},
   "outputs": [
    {
     "name": "stdout",
     "output_type": "stream",
     "text": [
      "Is 'racecar' a palindrome? True\n",
      "Is 'A man, a plan, a canal, Panama!' a palindrome? True\n"
     ]
    }
   ],
   "source": [
    "import re\n",
    "\n",
    "def is_palindrome(s):\n",
    "    \n",
    "    # Normalize the string: remove non-alphanumeric characters and convert to lowercase\n",
    "    normalized_str = re.sub(r'[^A-Za-z0-9]', '', s).lower()\n",
    "\n",
    "    # Check if the normalized string is the same forwards and backwards\n",
    "    return normalized_str == normalized_str[::-1]\n",
    "\n",
    "# Example usage\n",
    "input_str = \"racecar\"\n",
    "print(f\"Is '{input_str}' a palindrome? {is_palindrome(input_str)}\")\n",
    "\n",
    "input_str = \"A man, a plan, a canal, Panama!\"\n",
    "print(f\"Is '{input_str}' a palindrome? {is_palindrome(input_str)}\")"
   ]
  },
  {
   "cell_type": "code",
   "execution_count": null,
   "id": "749b5a73-5749-4024-9317-7dac611517a3",
   "metadata": {},
   "outputs": [],
   "source": []
  }
 ],
 "metadata": {
  "kernelspec": {
   "display_name": "Python 3 (ipykernel)",
   "language": "python",
   "name": "python3"
  },
  "language_info": {
   "codemirror_mode": {
    "name": "ipython",
    "version": 3
   },
   "file_extension": ".py",
   "mimetype": "text/x-python",
   "name": "python",
   "nbconvert_exporter": "python",
   "pygments_lexer": "ipython3",
   "version": "3.12.6"
  }
 },
 "nbformat": 4,
 "nbformat_minor": 5
}
