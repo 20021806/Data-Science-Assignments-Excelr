{
 "cells": [
  {
   "cell_type": "markdown",
   "id": "34242564-06d6-4ae5-88bf-448b870f6a73",
   "metadata": {},
   "source": [
    "###  Assignment-04 HYPOTHESIS TESTING"
   ]
  },
  {
   "cell_type": "code",
   "execution_count": 1,
   "id": "5edead84-2a17-4763-b842-184e47b9e2c0",
   "metadata": {},
   "outputs": [
    {
     "name": "stdout",
     "output_type": "stream",
     "text": [
      "Test Statistic (t): -38.00\n",
      "Critical Value: 1.71\n",
      "Decision: Fail to reject the null hypothesis. There is no strong evidence of increased cost.\n"
     ]
    }
   ],
   "source": [
    "import scipy.stats as stats\n",
    "import numpy as np\n",
    "\n",
    "# Given Data\n",
    "theoretical_cost = 1000 + 5 * 600  # μ = 1000 + 5*600\n",
    "sample_mean = 3050  # x̄\n",
    "std_dev = 5 * 25  # σ = 5*25\n",
    "sample_size = 25  # n\n",
    "alpha = 0.05  # Significance level\n",
    "\n",
    "# Step 1: State the Hypotheses\n",
    "# H0: The theoretical weekly operating cost model is still accurate (μ = 4000)\n",
    "# H1: The actual weekly operating cost is higher than the theoretical model (μ > 4000)\n",
    "\n",
    "# Step 2: Calculate the Test Statistic\n",
    "t_statistic = (sample_mean - theoretical_cost) / (std_dev / np.sqrt(sample_size))\n",
    "\n",
    "# Step 3: Determine the Critical Value\n",
    "critical_value = stats.t.ppf(1 - alpha, df=sample_size - 1)  # One-tailed test\n",
    "\n",
    "# Step 4: Make a Decision\n",
    "if t_statistic > critical_value:\n",
    "    decision = \"Reject the null hypothesis. The actual weekly operating cost is significantly higher.\"\n",
    "else:\n",
    "    decision = \"Fail to reject the null hypothesis. There is no strong evidence of increased cost.\"\n",
    "\n",
    "# Display Results\n",
    "print(f\"Test Statistic (t): {t_statistic:.2f}\")\n",
    "print(f\"Critical Value: {critical_value:.2f}\")\n",
    "print(f\"Decision: {decision}\")"
   ]
  },
  {
   "cell_type": "markdown",
   "id": "c1367619-0ca3-4131-ac97-b7e83a07f100",
   "metadata": {},
   "source": [
    "## CHI-SQUARE TEST"
   ]
  },
  {
   "cell_type": "code",
   "execution_count": 3,
   "id": "6114d150-a004-4591-97d8-1ec5009fbafb",
   "metadata": {},
   "outputs": [],
   "source": [
    "import scipy.stats as stats\n",
    "import numpy as np\n"
   ]
  },
  {
   "cell_type": "code",
   "execution_count": 5,
   "id": "be4d613f-c2fd-40bd-bebf-8bcd18b81f99",
   "metadata": {},
   "outputs": [],
   "source": [
    "# Step 1: State the Hypotheses\n",
    "# H0 (Null Hypothesis): There is no significant association between device type and customer satisfaction.\n",
    "# H1 (Alternative Hypothesis): There is a significant association between device type and customer satisfaction.\n",
    "\n",
    "# Step 2: Create the observed contingency table\n",
    "data = np.array([[50, 70],  # Very Satisfied\n",
    "                 [80, 100], # Satisfied\n",
    "                 [60, 90],  # Neutral\n",
    "                 [30, 50],  # Unsatisfied\n",
    "                 [20, 50]]) # Very Unsatisfied\n",
    "# Perform the Chi-Square test\n",
    "chi2_stat, p_value, dof, expected = stats.chi2_contingency(data)\n"
   ]
  },
  {
   "cell_type": "code",
   "execution_count": 6,
   "id": "efac3a34-1de4-40e9-8533-6760b201917d",
   "metadata": {},
   "outputs": [],
   "source": [
    "# Step 3: Determine the Critical Value\n",
    "alpha = 0.05  # Significance level\n",
    "degrees_of_freedom = (data.shape[0] - 1) * (data.shape[1] - 1)  # (rows - 1) * (columns - 1)\n",
    "critical_value = stats.chi2.ppf(1 - alpha, degrees_of_freedom)\n"
   ]
  },
  {
   "cell_type": "code",
   "execution_count": 7,
   "id": "4c7e0193-59c6-43f3-b40c-9259737a10ed",
   "metadata": {},
   "outputs": [
    {
     "name": "stdout",
     "output_type": "stream",
     "text": [
      "Chi-Square Statistic: 5.6382\n",
      "Critical Value: 9.4877\n",
      "p-value: 0.2278\n",
      "Degrees of Freedom: 4\n",
      "Expected Frequencies:\n",
      "[[ 48.  72.]\n",
      " [ 72. 108.]\n",
      " [ 60.  90.]\n",
      " [ 32.  48.]\n",
      " [ 28.  42.]]\n",
      "Conclusion: Fail to reject the null hypothesis. There is no significant association between device type and customer satisfaction.\n"
     ]
    }
   ],
   "source": [
    "# Step 4: Make a Decision\n",
    "print(f\"Chi-Square Statistic: {chi2_stat:.4f}\")\n",
    "print(f\"Critical Value: {critical_value:.4f}\")\n",
    "print(f\"p-value: {p_value:.4f}\")\n",
    "print(f\"Degrees of Freedom: {dof}\")\n",
    "print(\"Expected Frequencies:\")\n",
    "print(expected)\n",
    "\n",
    "if chi2_stat > critical_value:\n",
    "    print(\"Conclusion: Reject the null hypothesis. There is a significant association between device type and customer satisfaction.\")\n",
    "else:\n",
    "    print(\"Conclusion: Fail to reject the null hypothesis. There is no significant association between device type and customer satisfaction.\")\n"
   ]
  },
  {
   "cell_type": "code",
   "execution_count": null,
   "id": "811dc6a0-c9a0-44c0-8264-ff2d856e54b7",
   "metadata": {},
   "outputs": [],
   "source": []
  }
 ],
 "metadata": {
  "kernelspec": {
   "display_name": "Python 3 (ipykernel)",
   "language": "python",
   "name": "python3"
  },
  "language_info": {
   "codemirror_mode": {
    "name": "ipython",
    "version": 3
   },
   "file_extension": ".py",
   "mimetype": "text/x-python",
   "name": "python",
   "nbconvert_exporter": "python",
   "pygments_lexer": "ipython3",
   "version": "3.12.6"
  }
 },
 "nbformat": 4,
 "nbformat_minor": 5
}
