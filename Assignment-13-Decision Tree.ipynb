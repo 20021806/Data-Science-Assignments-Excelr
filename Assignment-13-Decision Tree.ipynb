{
 "cells": [
  {
   "cell_type": "markdown",
   "id": "a8064f10-8717-41f2-a45e-70055f2eec46",
   "metadata": {},
   "source": [
    "### Assignment-13 Decision Tree"
   ]
  },
  {
   "cell_type": "code",
   "execution_count": null,
   "id": "1f697648-05d1-45ec-a260-b6783b2f1f3e",
   "metadata": {},
   "outputs": [],
   "source": [
    "from sklearn.tree import DecisionTreeClassifier\n",
    "from sklearn.model_selection import train_test_split, GridSearchCV\n",
    "from sklearn.metrics import accuracy_score, precision_score, recall_score, f1_score, roc_auc_score\n",
    "from sklearn.preprocessing import LabelEncoder, OneHotEncoder\n",
    "import pandas as pd\n",
    "import numpy as np\n",
    "import matplotlib.pyplot as plt\n",
    "import seaborn as sns\n",
    "import warnings\n",
    "\n",
    "warnings.filterwarnings('ignore')"
   ]
  },
  {
   "cell_type": "code",
   "execution_count": null,
   "id": "37c2d522-a3ed-4e89-8a1a-05af887d5077",
   "metadata": {},
   "outputs": [],
   "source": [
    "df1 = pd.read_excel('C:\\\\Users\\\\kavya\\\\OneDrive\\\\Attachments\\\\Desktop\\\\Assignments\\\\heart_disease.xlsx',sheet_name=0)\n"
   ]
  },
  {
   "cell_type": "code",
   "execution_count": null,
   "id": "c78d8521-0115-483a-8c35-d0b2c9265df1",
   "metadata": {},
   "outputs": [],
   "source": [
    "df1"
   ]
  },
  {
   "cell_type": "code",
   "execution_count": null,
   "id": "2d33a8d1-9825-4993-96ab-a46f5f3ea76e",
   "metadata": {},
   "outputs": [],
   "source": [
    "df = pd.read_excel('C:\\\\Users\\\\kavya\\\\OneDrive\\\\Attachments\\\\Desktop\\\\Assignments\\\\heart_disease.xlsx',sheet_name=1)"
   ]
  },
  {
   "cell_type": "code",
   "execution_count": null,
   "id": "d0948c59-f1d2-4498-a6e5-3c77f7e448b7",
   "metadata": {},
   "outputs": [],
   "source": [
    "df.head()"
   ]
  },
  {
   "cell_type": "code",
   "execution_count": null,
   "id": "49eb812e-0b01-41fc-aedf-91914f48230d",
   "metadata": {},
   "outputs": [],
   "source": [
    "df.info()"
   ]
  },
  {
   "cell_type": "code",
   "execution_count": null,
   "id": "5efa0a3b-2448-403f-bcfa-2002ca73edce",
   "metadata": {},
   "outputs": [],
   "source": [
    "df.shape"
   ]
  },
  {
   "cell_type": "markdown",
   "id": "5a582929-3078-4263-8be7-d5581c006e02",
   "metadata": {},
   "source": [
    "## Exploratory Data Analysis"
   ]
  },
  {
   "cell_type": "code",
   "execution_count": null,
   "id": "f5b49415-2997-4027-9b0c-d6e0090e98da",
   "metadata": {},
   "outputs": [],
   "source": [
    "df.isnull().sum()"
   ]
  },
  {
   "cell_type": "code",
   "execution_count": null,
   "id": "25eb2204-fac5-4320-8934-12346aa21298",
   "metadata": {},
   "outputs": [],
   "source": [
    "null_values = df[df.isnull().any(axis=1)]\n",
    "null_values"
   ]
  },
  {
   "cell_type": "code",
   "execution_count": null,
   "id": "96c589ee-2ad1-4e0c-bf30-72900a5900ad",
   "metadata": {},
   "outputs": [],
   "source": [
    "null_percentage = (df['oldpeak'].isnull().sum() / len(df)) * 100\n",
    "print(\"Percentage of null values in 'oldpeak':\", null_percentage)"
   ]
  },
  {
   "cell_type": "code",
   "execution_count": null,
   "id": "7bff396d-2e0e-417e-a89e-7f16495beaff",
   "metadata": {},
   "outputs": [],
   "source": [
    "non_null_values = df['oldpeak'].dropna()\n",
    "summary_stats = non_null_values.describe()\n",
    "print(\"Summary statistics of non-null values in 'oldpeak':\")\n",
    "print(summary_stats)\n",
    "     "
   ]
  },
  {
   "cell_type": "code",
   "execution_count": null,
   "id": "8609a3d2-a262-4ea4-8f03-847399aaa4c2",
   "metadata": {},
   "outputs": [],
   "source": [
    "sns.boxplot(x = df['oldpeak'])\n",
    "plt.show()"
   ]
  },
  {
   "cell_type": "code",
   "execution_count": null,
   "id": "185ec28f-4120-47e4-a012-fa23fd69e78d",
   "metadata": {},
   "outputs": [],
   "source": [
    "median_old_peak = df['oldpeak'].median()\n",
    "df['oldpeak'].fillna(median_old_peak, inplace=True)\n",
    "     "
   ]
  },
  {
   "cell_type": "code",
   "execution_count": null,
   "id": "3fd4758d-98a5-4bda-9afb-7c158b269f60",
   "metadata": {},
   "outputs": [],
   "source": [
    "df.isnull().sum().sum()"
   ]
  },
  {
   "cell_type": "code",
   "execution_count": null,
   "id": "d74efe2c-2da5-441c-9f5c-82435b3ffc46",
   "metadata": {},
   "outputs": [],
   "source": [
    "df.duplicated().sum()"
   ]
  },
  {
   "cell_type": "code",
   "execution_count": null,
   "id": "12e61fd8-5705-454d-ae71-60bc1328dc9a",
   "metadata": {},
   "outputs": [],
   "source": [
    "df = df.drop_duplicates() #remove duplicates"
   ]
  },
  {
   "cell_type": "code",
   "execution_count": null,
   "id": "c22332a1-0b8e-4260-bfda-ef24991fbb06",
   "metadata": {},
   "outputs": [],
   "source": [
    "df.duplicated().sum()"
   ]
  },
  {
   "cell_type": "code",
   "execution_count": null,
   "id": "8c3dfde6-bf89-4fe5-83e6-2991cdc18f11",
   "metadata": {},
   "outputs": [],
   "source": [
    "categorical_columns = df.select_dtypes(include=['object']).columns\n",
    "for column in categorical_columns:\n",
    "    unique_values = df[column].unique()\n",
    "    print(\"\\nUnique Values in\", column, \":\", unique_values)"
   ]
  },
  {
   "cell_type": "code",
   "execution_count": null,
   "id": "0692a10b-99cf-47a7-994e-2100602cc831",
   "metadata": {},
   "outputs": [],
   "source": [
    "df.describe().T"
   ]
  },
  {
   "cell_type": "code",
   "execution_count": null,
   "id": "d399a1cb-7b89-4369-98b6-d01fc3a913b6",
   "metadata": {},
   "outputs": [],
   "source": [
    "df.plot(kind='box')\n",
    "plt.show()"
   ]
  },
  {
   "cell_type": "code",
   "execution_count": null,
   "id": "ae997257-9d1a-4e46-a2e6-55e1dde9cab0",
   "metadata": {},
   "outputs": [],
   "source": [
    "# Function to replace outliers with the nearest non-outlier value\n",
    "def replace_outliers(series):\n",
    "    if np.issubdtype(series.dtype, np.number):  # Check if the series is numeric\n",
    "        Q1 = series.quantile(0.25)\n",
    "        Q3 = series.quantile(0.75)\n",
    "        IQR = Q3 - Q1\n",
    "        lower_bound = Q1 - 1.5 * IQR\n",
    "        upper_bound = Q3 + 1.5 * IQR\n",
    "\n",
    "        # Replace outliers with the nearest non-outlier value\n",
    "        series[series < lower_bound] = series[series >= lower_bound].min()\n",
    "        series[series > upper_bound] = series[series <= upper_bound].max()\n",
    "    return series\n",
    "\n",
    "# Apply the function to each column of the DataFrame\n",
    "df_cleaned = df.apply(replace_outliers, axis=0)\n",
    "     \n",
    "\n",
    "import plotly.graph_objects as go\n",
    "\n",
    "fig = go.Figure()\n",
    "\n",
    "for column in df.columns:\n",
    "    fig.add_trace(go.Box(y=df[column], name=column + ' (Before)'))\n",
    "\n",
    "for column in df_cleaned.columns:\n",
    "    fig.add_trace(go.Box(y=df_cleaned[column], name=column + ' (After)'))\n",
    "\n",
    "fig.update_layout(title=\"Box Plot of Dataset Before and After Replacing Outliers\",\n",
    "                  yaxis_title=\"Values\")\n",
    "\n",
    "fig.show()\n",
    "     "
   ]
  },
  {
   "cell_type": "code",
   "execution_count": null,
   "id": "ac3e3d95-5fcb-4908-9507-fa4b3f2e2840",
   "metadata": {},
   "outputs": [],
   "source": [
    "fig = go.Figure()\n",
    "\n",
    "for column in df_cleaned.columns:\n",
    "    fig.add_trace(go.Histogram(x=df_cleaned[column], name=column, marker_color='yellowgreen'))\n",
    "\n",
    "fig.update_layout(title='Histograms of Features',\n",
    "                  xaxis_title='Values',\n",
    "                  yaxis_title='Frequency',\n",
    "                  barmode='overlay',\n",
    "                  bargap=0.1)\n",
    "\n",
    "fig.show()"
   ]
  },
  {
   "cell_type": "code",
   "execution_count": null,
   "id": "711f159e-5d15-41bd-ae2e-a65a349ac870",
   "metadata": {},
   "outputs": [],
   "source": [
    "df2 = df_cleaned\n",
    "df2.info()"
   ]
  },
  {
   "cell_type": "code",
   "execution_count": null,
   "id": "f8d04aef-8698-4931-9eb4-7f9583fd2656",
   "metadata": {},
   "outputs": [],
   "source": [
    "# Perform one-hot encoding for categorical columns\n",
    "df_encoded = pd.get_dummies(df2, columns=['sex', 'cp', 'restecg', 'exang', 'slope', 'thal'])\n",
    "df_encoded = df_encoded.astype(int)\n",
    "\n",
    "# Calculate the correlation matrix\n",
    "correlation_matrix = df_encoded.corr()\n",
    "\n",
    "plt.figure(figsize=(12, 10))\n",
    "sns.heatmap(correlation_matrix, annot=True, cmap='coolwarm', fmt=\".2f\")\n",
    "plt.title('Correlation Matrix of Features', fontsize=16)\n",
    "plt.show()"
   ]
  },
  {
   "cell_type": "code",
   "execution_count": null,
   "id": "c8c548b9-461a-47b2-aafc-64b44008bc7b",
   "metadata": {},
   "outputs": [],
   "source": [
    "pd.set_option('display.max_columns', None)\n",
    "df_encoded.head()"
   ]
  },
  {
   "cell_type": "code",
   "execution_count": null,
   "id": "237151da-23a2-4ba1-a555-a3db00a711ae",
   "metadata": {},
   "outputs": [],
   "source": [
    "df3 = df_encoded\n",
    "df3.info()"
   ]
  },
  {
   "cell_type": "code",
   "execution_count": null,
   "id": "792b80fc-468e-4197-b9c8-d57d0dd59d82",
   "metadata": {},
   "outputs": [],
   "source": [
    "from sklearn.model_selection import train_test_split\n",
    "\n",
    "# Separate features (X) and target variable (y)\n",
    "X = df3.drop(columns=['num'])  # Features\n",
    "y = df3['num']  # Target variable\n",
    "\n",
    "# Split the dataset into training and testing sets (80-20 split)\n",
    "X_train, X_test, y_train, y_test = train_test_split(X, y, test_size=0.2, random_state=42)\n",
    "     "
   ]
  },
  {
   "cell_type": "code",
   "execution_count": null,
   "id": "7fb375ed-fd94-464a-939a-f06885d5d753",
   "metadata": {},
   "outputs": [],
   "source": [
    "print(\"Training set shape:\", X_train.shape, y_train.shape)\n",
    "print(\"Testing set shape:\", X_test.shape, y_test.shape)"
   ]
  },
  {
   "cell_type": "code",
   "execution_count": null,
   "id": "e6674939-970c-4fb2-8c57-b5f76d1dc0f0",
   "metadata": {},
   "outputs": [],
   "source": [
    "from sklearn.tree import DecisionTreeClassifier\n",
    "from sklearn.metrics import accuracy_score\n",
    "\n",
    "# Create a Decision Tree Classifier\n",
    "clf = DecisionTreeClassifier(random_state=42)\n",
    "\n",
    "# Train the classifier on the training data\n",
    "clf.fit(X_train, y_train)\n",
    "\n",
    "# Make predictions on the testing data\n",
    "y_pred = clf.predict(X_test)\n",
    "\n",
    "# Calculate accuracy of the model\n",
    "accuracy = accuracy_score(y_test, y_pred)\n",
    "print(\"Accuracy:\", accuracy)"
   ]
  },
  {
   "cell_type": "code",
   "execution_count": null,
   "id": "59d80880-2a7a-4a2b-91fd-3028b2d1c5f7",
   "metadata": {},
   "outputs": [],
   "source": [
    "from sklearn.metrics import accuracy_score, precision_score, recall_score, f1_score, roc_auc_score\n",
    "\n",
    "accuracy = accuracy_score(y_test, y_pred)\n",
    "precision = precision_score(y_test, y_pred, average='weighted')\n",
    "recall = recall_score(y_test, y_pred, average='weighted')\n",
    "f1 = f1_score(y_test, y_pred, average='weighted')\n",
    "roc_auc = roc_auc_score(y_test, clf.predict_proba(X_test), average='macro', multi_class='ovr')\n",
    "\n",
    "print(\"Accuracy:\", accuracy)\n",
    "print(\"Precision:\", precision)\n",
    "print(\"Recall:\", recall)\n",
    "print(\"F1 Score:\", f1)\n",
    "print(\"ROC AUC Score:\", roc_auc)"
   ]
  },
  {
   "cell_type": "code",
   "execution_count": null,
   "id": "30272137-4e57-4bae-bb1b-6f4cf67af164",
   "metadata": {},
   "outputs": [],
   "source": [
    "import plotly.graph_objects as go\n",
    "\n",
    "# Evaluation metrics\n",
    "metrics = ['Accuracy', 'Precision', 'Recall', 'F1 Score', 'ROC AUC Score']\n",
    "values = [accuracy, precision, recall, f1, roc_auc]\n",
    "\n",
    "# Create a bar plot\n",
    "fig = go.Figure(data=[go.Bar(x=metrics, y=values, marker_color=['blue', 'green', 'orange', 'purple', 'red'])])\n",
    "fig.update_layout(title='Evaluation Metrics',\n",
    "                  xaxis_title='Metrics',\n",
    "                  yaxis_title='Score',\n",
    "                  yaxis=dict(range=[0, 1]),\n",
    "                  showlegend=False)\n",
    "fig.show()"
   ]
  },
  {
   "cell_type": "code",
   "execution_count": null,
   "id": "5de2a251-7447-471c-afbc-9c3267dfec76",
   "metadata": {},
   "outputs": [],
   "source": [
    "from sklearn.metrics import roc_curve\n",
    "import matplotlib.pyplot as plt\n",
    "\n",
    "# Compute ROC curve\n",
    "fpr, tpr, thresholds = roc_curve(y_test, clf.predict_proba(X_test)[:, 1], pos_label=1)\n",
    "\n",
    "plt.figure(figsize=(8, 6))\n",
    "plt.plot(fpr, tpr, color='blue', lw=2, label='ROC curve (area = %0.2f)' % roc_auc)\n",
    "plt.plot([0, 1], [0, 1], color='red', lw=2, linestyle='--', label='Random Guess')\n",
    "plt.xlim([0.0, 1.0])\n",
    "plt.ylim([0.0, 1.05])\n",
    "plt.xlabel('False Positive Rate')\n",
    "plt.ylabel('True Positive Rate')\n",
    "plt.title('Receiver Operating Characteristic (ROC) Curve')\n",
    "plt.legend(loc='lower right')\n",
    "plt.show()\n",
    "     "
   ]
  },
  {
   "cell_type": "code",
   "execution_count": null,
   "id": "dc5af0db-6821-4011-add3-5509a13b2a2a",
   "metadata": {},
   "outputs": [],
   "source": [
    "from sklearn.model_selection import GridSearchCV\n",
    "\n",
    "# Define the hyperparameters grid\n",
    "param_grid = {\n",
    "    'max_depth': [None, 5, 10, 15],\n",
    "    'min_samples_split': [2, 5, 10],\n",
    "    'criterion': ['gini', 'entropy']\n",
    "}\n",
    "\n",
    "# Create a Decision Tree Classifier\n",
    "clf = DecisionTreeClassifier(random_state=42)\n",
    "\n",
    "# Instantiate GridSearchCV\n",
    "grid_search = GridSearchCV(clf, param_grid, cv=5, scoring='accuracy')\n",
    "\n",
    "# Perform grid search\n",
    "grid_search.fit(X_train, y_train)\n",
    "\n",
    "# Get the best parameters\n",
    "best_params = grid_search.best_params_\n",
    "print(\"Best Parameters:\", best_params)\n",
    "\n",
    "# Get the best estimator\n",
    "best_clf = grid_search.best_estimator_\n",
    "\n",
    "# Evaluate the best model on the testing set\n",
    "y_pred = best_clf.predict(X_test)\n",
    "accuracy = accuracy_score(y_test, y_pred)\n",
    "print(\"Accuracy on Testing Set:\", accuracy)"
   ]
  },
  {
   "cell_type": "code",
   "execution_count": null,
   "id": "8f272b62-fbb3-4186-9f09-2ecad803334c",
   "metadata": {},
   "outputs": [],
   "source": [
    "pip install graphviz pydotplus\n"
   ]
  },
  {
   "cell_type": "code",
   "execution_count": null,
   "id": "c88b9ece-be01-4711-8275-9e1aed6e941c",
   "metadata": {},
   "outputs": [],
   "source": [
    "from IPython.display import Image\n",
    "import pydotplus\n",
    "from sklearn.tree import export_graphviz\n",
    "\n",
    "# Export the decision tree to DOT format\n",
    "dot_data = export_graphviz(best_clf, out_file=None,\n",
    "                           feature_names=X_train.columns,\n",
    "                           class_names=class_names,\n",
    "                           filled=True, rounded=True,\n",
    "                           special_characters=True)\n",
    "\n",
    "# Create a Graphviz object\n",
    "graph = pydotplus.graph_from_dot_data(dot_data)\n",
    "\n",
    "# Generate image from the graph\n",
    "image = Image(graph.create_png())\n",
    "\n",
    "display(image)\n"
   ]
  },
  {
   "cell_type": "code",
   "execution_count": null,
   "id": "6d5eb27a-470e-4aaf-b44c-57b0c5c95ba5",
   "metadata": {},
   "outputs": [],
   "source": [
    "# Before hyperparameter implementation\n",
    "before_accuracy = 0.5604395604395604\n",
    "before_precision = 0.5461145400228057\n",
    "before_recall = 0.5604395604395604\n",
    "before_f1_score = 0.552656965312052\n",
    "before_roc_auc_score = 0.6267962426386677\n",
    "\n",
    "# After hyperparameter implementation\n",
    "after_best_parameters = {'criterion': 'gini', 'max_depth': 5, 'min_samples_split': 2}\n",
    "after_accuracy = 0.5769230769230769\n",
    "\n",
    "print(\"Performance Insights:\")\n",
    "print(\"------------------------------\")\n",
    "print(\"Before Hyperparameter Tuning:\")\n",
    "print(\"  Accuracy:\", before_accuracy)\n",
    "print(\"  Precision:\", before_precision)\n",
    "print(\"  Recall:\", before_recall)\n",
    "print(\"  F1 Score:\", before_f1_score)\n",
    "print(\"  ROC AUC Score:\", before_roc_auc_score)\n",
    "print(\"\\nAfter Hyperparameter Tuning:\")\n",
    "print(\"  Best Parameters:\", after_best_parameters)\n",
    "print(\"  Accuracy on Testing Set:\", after_accuracy)\n"
   ]
  }
 ],
 "metadata": {
  "kernelspec": {
   "display_name": "Python 3 (ipykernel)",
   "language": "python",
   "name": "python3"
  },
  "language_info": {
   "codemirror_mode": {
    "name": "ipython",
    "version": 3
   },
   "file_extension": ".py",
   "mimetype": "text/x-python",
   "name": "python",
   "nbconvert_exporter": "python",
   "pygments_lexer": "ipython3",
   "version": "3.12.6"
  }
 },
 "nbformat": 4,
 "nbformat_minor": 5
}
