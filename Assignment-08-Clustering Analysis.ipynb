{
 "cells": [
  {
   "cell_type": "markdown",
   "id": "4894f4ec-eda4-43e0-a23a-6526adced29c",
   "metadata": {},
   "source": [
    "## Assignment-08 CLUSTERING ANALYSIS "
   ]
  },
  {
   "cell_type": "code",
   "execution_count": 1,
   "id": "c4d2367c-db1f-4b2a-8b25-9df3f7d2b013",
   "metadata": {},
   "outputs": [],
   "source": [
    "import pandas as pd\n",
    "df = pd.read_excel(\"EastWestAirlines.xlsx\", sheet_name=1)"
   ]
  },
  {
   "cell_type": "code",
   "execution_count": 4,
   "id": "0822c994-b810-4665-8aa3-5b11a6f8a3b9",
   "metadata": {},
   "outputs": [
    {
     "name": "stdout",
     "output_type": "stream",
     "text": [
      "<class 'pandas.core.frame.DataFrame'>\n",
      "RangeIndex: 3999 entries, 0 to 3998\n",
      "Data columns (total 12 columns):\n",
      " #   Column             Non-Null Count  Dtype\n",
      "---  ------             --------------  -----\n",
      " 0   ID#                3999 non-null   int64\n",
      " 1   Balance            3999 non-null   int64\n",
      " 2   Qual_miles         3999 non-null   int64\n",
      " 3   cc1_miles          3999 non-null   int64\n",
      " 4   cc2_miles          3999 non-null   int64\n",
      " 5   cc3_miles          3999 non-null   int64\n",
      " 6   Bonus_miles        3999 non-null   int64\n",
      " 7   Bonus_trans        3999 non-null   int64\n",
      " 8   Flight_miles_12mo  3999 non-null   int64\n",
      " 9   Flight_trans_12    3999 non-null   int64\n",
      " 10  Days_since_enroll  3999 non-null   int64\n",
      " 11  Award?             3999 non-null   int64\n",
      "dtypes: int64(12)\n",
      "memory usage: 375.0 KB\n"
     ]
    }
   ],
   "source": [
    "df.info()"
   ]
  },
  {
   "cell_type": "code",
   "execution_count": null,
   "id": "87ecf0e7-fcd6-49f9-908d-545d85636edb",
   "metadata": {},
   "outputs": [],
   "source": [
    "# Column rename\n",
    "df.rename(columns={'ID#':'ID', 'Award?':'Award'}, inplace=True)"
   ]
  },
  {
   "cell_type": "code",
   "execution_count": null,
   "id": "da217dad-5146-4b95-a804-57efb29b40e7",
   "metadata": {},
   "outputs": [],
   "source": [
    "#Set ID as Index Column\n",
    "df.set_index('ID',inplace=True)\n",
    "df"
   ]
  },
  {
   "cell_type": "markdown",
   "id": "4f778084-0aa1-4888-8921-ea89874245db",
   "metadata": {},
   "source": [
    "## Data exploration "
   ]
  },
  {
   "cell_type": "markdown",
   "id": "80c72517-6568-41e8-9985-cab1db5a9653",
   "metadata": {},
   "source": [
    "#### Descriptive Statistics"
   ]
  },
  {
   "cell_type": "code",
   "execution_count": null,
   "id": "137e965e-78fe-4d42-9474-5e682610fb1e",
   "metadata": {},
   "outputs": [],
   "source": [
    "df.describe().T"
   ]
  },
  {
   "cell_type": "code",
   "execution_count": null,
   "id": "ca94b26f-1caf-485c-8ae5-7e841f01d6e9",
   "metadata": {},
   "outputs": [],
   "source": [
    "# different cc_miles have different max values.\n",
    "# so, we want to check what values these columns can take\n",
    "\n",
    "print('unique_cc1',df.cc1_miles.unique())\n",
    "print('unique_cc2',df.cc2_miles.unique())\n",
    "print('unique_cc3',df.cc3_miles.unique())"
   ]
  },
  {
   "cell_type": "code",
   "execution_count": null,
   "id": "44240aa2-9747-4d5b-a1b0-1f0b621cf93b",
   "metadata": {},
   "outputs": [],
   "source": [
    "df.duplicated().sum()#duplicate value check"
   ]
  },
  {
   "cell_type": "code",
   "execution_count": null,
   "id": "7f3c62a5-5d08-4c7a-bd10-922cfcca138a",
   "metadata": {},
   "outputs": [],
   "source": [
    "df[df.duplicated()]"
   ]
  },
  {
   "cell_type": "code",
   "execution_count": null,
   "id": "314fb6fe-5bfc-48f2-9bed-64509c61886e",
   "metadata": {},
   "outputs": [],
   "source": [
    "df = df.drop_duplicates()"
   ]
  },
  {
   "cell_type": "code",
   "execution_count": null,
   "id": "296546c6-b07f-4067-a072-d44a073556e8",
   "metadata": {},
   "outputs": [],
   "source": [
    "df.duplicated().sum()"
   ]
  },
  {
   "cell_type": "code",
   "execution_count": null,
   "id": "72cd67ba-fc65-463a-a11e-eb17efb88ddb",
   "metadata": {},
   "outputs": [],
   "source": [
    "df.isnull().sum()#missing value check"
   ]
  },
  {
   "cell_type": "markdown",
   "id": "89d916da-8671-474e-9a3d-5eb62958ea3f",
   "metadata": {},
   "source": [
    "## Explorator data analysis"
   ]
  },
  {
   "cell_type": "code",
   "execution_count": null,
   "id": "7eed64a2-a507-48d6-9913-03416e88e9cb",
   "metadata": {},
   "outputs": [],
   "source": [
    "import plotly.express as px\n",
    "\n",
    "for column in df.columns:\n",
    "    fig = px.histogram(df, x=column, title=f'{column} Distribution')\n",
    "    fig.show()"
   ]
  },
  {
   "cell_type": "code",
   "execution_count": null,
   "id": "372bd2de-dc99-470d-bb91-5a930cf6f32d",
   "metadata": {},
   "outputs": [],
   "source": [
    "import seaborn as sns\n",
    "import matplotlib.pyplot as plt\n",
    "\n",
    "# Create a figure containing subplots\n",
    "fig = plt.figure(figsize=(15, 10))\n",
    "\n",
    "# Plot KDE for each feature\n",
    "for i, column in enumerate(df.columns):\n",
    "    ax = fig.add_subplot(3, 4, i + 1)\n",
    "    sns.kdeplot(df[column], fill=True, ax=ax)\n",
    "    ax.set_title(f'Kernel Density Estimation for {column}')\n",
    "    ax.set_xlabel('Value')\n",
    "    ax.set_ylabel('Density')\n",
    "plt.tight_layout()\n",
    "plt.show()"
   ]
  },
  {
   "cell_type": "code",
   "execution_count": null,
   "id": "5bbb7223-09b3-4c50-b73f-ecc46ab46ece",
   "metadata": {},
   "outputs": [],
   "source": [
    "ot=df.copy()\n",
    "fig, axes=plt.subplots(10,1,figsize=(16,16),sharex=False,sharey=False)\n",
    "sns.boxplot(x='Balance',data=ot,palette='crest',ax=axes[0])\n",
    "sns.boxplot(x='Qual_miles',data=ot,palette='crest',ax=axes[1])\n",
    "sns.boxplot(x='cc1_miles',data=ot,palette='crest',ax=axes[2])\n",
    "sns.boxplot(x='cc2_miles',data=ot,palette='crest',ax=axes[3])\n",
    "sns.boxplot(x='cc3_miles',data=ot,palette='crest',ax=axes[4])\n",
    "sns.boxplot(x='Bonus_miles',data=ot,palette='crest',ax=axes[5])\n",
    "sns.boxplot(x='Bonus_trans',data=ot,palette='crest',ax=axes[6])\n",
    "sns.boxplot(x='Flight_miles_12mo',data=ot,palette='crest',ax=axes[7])\n",
    "sns.boxplot(x='Flight_trans_12',data=ot,palette='crest',ax=axes[8])\n",
    "sns.boxplot(x='Days_since_enroll',data=ot,palette='crest',ax=axes[9])\n",
    "plt.tight_layout(pad=2.0)"
   ]
  },
  {
   "cell_type": "code",
   "execution_count": null,
   "id": "393527f2-faa1-4cae-9891-98f20a4c88e5",
   "metadata": {},
   "outputs": [],
   "source": [
    "plt.figure(figsize=(12,8))\n",
    "sns.boxplot(data=df)"
   ]
  },
  {
   "cell_type": "code",
   "execution_count": null,
   "id": "a1da6ba9-f7e6-4919-bf69-ea85c7cf3074",
   "metadata": {},
   "outputs": [],
   "source": [
    "import numpy as np\n",
    "plt.figure(figsize=(12,8))\n",
    "sns.boxplot(data=np.sqrt(df))"
   ]
  },
  {
   "cell_type": "markdown",
   "id": "8ba777fe-64c3-4e90-a88f-8756889821da",
   "metadata": {},
   "source": [
    "## Data Visualization"
   ]
  },
  {
   "cell_type": "code",
   "execution_count": null,
   "id": "ae6430ca-4aa2-4a05-901d-5754b7620afd",
   "metadata": {},
   "outputs": [],
   "source": [
    "countNotermdeposit = len(df[df.Award == 0])\n",
    "counthavetermdeposit = len(df[df.Award == 1])\n",
    "print(\"Percentage of Customers without an Award: {:.2f}%\".format((countNotermdeposit / len(df.Award))*100))\n",
    "print(\"Percentage of Customers with an Award: {:.2f}%\".format((counthavetermdeposit / len(df.Award))*100))"
   ]
  },
  {
   "cell_type": "code",
   "execution_count": null,
   "id": "4fa17561-4a1b-46d2-9d84-5769b4517787",
   "metadata": {},
   "outputs": [],
   "source": [
    "sns.countplot(x='Award', data=df,\n",
    "              order=df['Award'].value_counts().index)\n",
    "plt.xticks(fontsize = 12)\n",
    "plt.title('Whether the client has a Award or not ')"
   ]
  },
  {
   "cell_type": "code",
   "execution_count": null,
   "id": "4795388b-9216-45c2-80db-bddfb09967ca",
   "metadata": {},
   "outputs": [],
   "source": [
    "# Balance : Number of miles eligible for award travel\n",
    "\n",
    "plt.figure(figsize = (5,5))\n",
    "Balance = df[['Award','Balance']].sort_values('Balance', ascending = False)\n",
    "ax = sns.barplot(x='Award', y='Balance', data= Balance)\n",
    "ax.set(xlabel = 'Award', ylabel= 'Balance')\n",
    "plt.xticks(rotation=90)\n",
    "plt.show()"
   ]
  },
  {
   "cell_type": "code",
   "execution_count": null,
   "id": "f88c7c3e-260f-41c7-86de-67c640817b6f",
   "metadata": {},
   "outputs": [],
   "source": [
    "corr_matrix = df.corr()\n",
    "corr_matrix[\"Balance\"].sort_values(ascending=False)"
   ]
  },
  {
   "cell_type": "code",
   "execution_count": null,
   "id": "be7a3e22-a67e-4a5d-a2f7-b0b3c318f5af",
   "metadata": {},
   "outputs": [],
   "source": [
    "#correlation heatmap\n",
    "f,ax = plt.subplots(figsize=(9,6))\n",
    "sns.heatmap(df.corr(), annot=True, linewidths =.5, fmt ='.1f',ax=ax)\n",
    "plt.show()"
   ]
  },
  {
   "cell_type": "code",
   "execution_count": null,
   "id": "6a69b91c-78c8-47b6-8bb9-35fc876d49f6",
   "metadata": {},
   "outputs": [],
   "source": [
    "# Plotting frequent flying bonuses vs. non-flight bonus transactions\n",
    "plt.figure(figsize = (5,5))\n",
    "sorted_data = df[['cc1_miles','Bonus_trans']].sort_values('Bonus_trans', ascending = False)\n",
    "ax = sns.barplot(x='cc1_miles', y='Bonus_trans', data= sorted_data)\n",
    "ax.set(xlabel = 'Miles earned with freq. flyer credit card', ylabel= 'Non-flight bonus transactions')\n",
    "plt.xticks(rotation=90)\n",
    "plt.show()"
   ]
  },
  {
   "cell_type": "markdown",
   "id": "08690902-2d27-4aee-8c66-aba6f68f3bef",
   "metadata": {},
   "source": [
    "## Data Processing"
   ]
  },
  {
   "cell_type": "code",
   "execution_count": null,
   "id": "4a48c52a-1b16-4efd-83d0-85afe93fcea3",
   "metadata": {},
   "outputs": [],
   "source": [
    "from sklearn.preprocessing import StandardScaler\n",
    "\n",
    "standard_scaler = StandardScaler()\n",
    "std_df = standard_scaler.fit_transform(df)\n",
    "std_df.shape"
   ]
  },
  {
   "cell_type": "code",
   "execution_count": null,
   "id": "47f9b97f-a657-4393-8e5c-04a638bef3f7",
   "metadata": {},
   "outputs": [],
   "source": [
    "#normalizing the data using minmaxscaler for accurancy result comparision\n",
    "from sklearn.preprocessing import MinMaxScaler\n",
    "minmax = MinMaxScaler()\n",
    "\n",
    "minmax_df = minmax.fit_transform(df)\n",
    "minmax_df.shape"
   ]
  },
  {
   "cell_type": "markdown",
   "id": "e48f94aa-1e2d-474e-be38-e9fae49f0974",
   "metadata": {},
   "source": [
    "## K-means clustering"
   ]
  },
  {
   "cell_type": "code",
   "execution_count": null,
   "id": "5e65bdcc-ca71-4361-9a44-a961dfdad260",
   "metadata": {},
   "outputs": [],
   "source": [
    "from sklearn.cluster import KMeans"
   ]
  },
  {
   "cell_type": "code",
   "execution_count": null,
   "id": "dd83316f-4b3d-44b1-bd95-e31f8aee989a",
   "metadata": {},
   "outputs": [],
   "source": [
    "inertia = []\n",
    "for k in range(1, 11):\n",
    "    kmeans = KMeans(n_clusters=k, random_state=42)\n",
    "    kmeans.fit(std_df)\n",
    "    inertia.append(kmeans.inertia_)\n",
    "\n",
    "# Plotting the elbow method\n",
    "plt.figure(figsize=(10, 6))\n",
    "plt.plot(range(1, 11), inertia, marker='o', linestyle='--')\n",
    "plt.xlabel('Number of Clusters (K)')\n",
    "plt.ylabel('Inertia')\n",
    "plt.title('Elbow Method')\n",
    "plt.show()"
   ]
  },
  {
   "cell_type": "code",
   "execution_count": null,
   "id": "e8a8624f-86fb-41bf-ba48-261ad7ea0fc5",
   "metadata": {},
   "outputs": [],
   "source": [
    "k = 6\n",
    "kmeans = KMeans(n_clusters=k, random_state=42)\n",
    "kmeans.fit(std_df)"
   ]
  },
  {
   "cell_type": "code",
   "execution_count": null,
   "id": "4e0cb8fd-821c-4676-8b11-17c9dc46fa01",
   "metadata": {},
   "outputs": [],
   "source": [
    "df['Cluster'] = kmeans.labels_"
   ]
  },
  {
   "cell_type": "code",
   "execution_count": null,
   "id": "e4e0f35e-fad8-404d-b12f-fefa51669227",
   "metadata": {},
   "outputs": [],
   "source": [
    "df.drop('Cluster', axis=1, inplace=True)"
   ]
  },
  {
   "cell_type": "code",
   "execution_count": null,
   "id": "c885729f-0aa7-4c0f-9257-82a6136f8c71",
   "metadata": {},
   "outputs": [],
   "source": [
    "df.columns"
   ]
  },
  {
   "cell_type": "code",
   "execution_count": null,
   "id": "b072eb4d-fbdf-4b7d-b665-55b391d18282",
   "metadata": {},
   "outputs": [],
   "source": [
    " fig = px.scatter(df, x=df.columns[0], y=df.columns[1], color='Kmeans_Cluster',\n",
    "                 title='K-means Clustering',\n",
    "                 labels={df.columns[0]: 'Feature 1', df.columns[1]: 'Feature 2', 'Cluster': 'Cluster'},\n",
    "                 color_continuous_scale='viridis')\n",
    "\n",
    "# Show the plot\n",
    "fig.show()"
   ]
  },
  {
   "cell_type": "markdown",
   "id": "cfbe1b9e-5a05-4fae-8c7d-fb3b50dba7b4",
   "metadata": {},
   "source": [
    "## Hierarchical Clustering Algorithm"
   ]
  },
  {
   "cell_type": "code",
   "execution_count": null,
   "id": "658386da-43a9-42eb-b608-911db2c533db",
   "metadata": {},
   "outputs": [],
   "source": [
    "from scipy.cluster.hierarchy import linkage\n",
    "import scipy.cluster.hierarchy as sch"
   ]
  },
  {
   "cell_type": "code",
   "execution_count": null,
   "id": "999178b8-94ec-432e-847d-c23b52413a3a",
   "metadata": {},
   "outputs": [],
   "source": [
    "z = linkage(minmax_df, method = \"complete\", metric = \"euclidean\")"
   ]
  },
  {
   "cell_type": "code",
   "execution_count": null,
   "id": "e009d68c-5f65-4fcc-8452-c8ff89645424",
   "metadata": {},
   "outputs": [],
   "source": [
    "plt.figure(figsize=(15, 8));plt.title('Hierarchical Clustering Dendrogram');plt.xlabel('Index');plt.ylabel('Distance')\n",
    "sch.dendrogram(z, leaf_rotation = 0,  leaf_font_size = 5 )\n",
    "plt.show()"
   ]
  },
  {
   "cell_type": "code",
   "execution_count": null,
   "id": "82364d6d-bd5a-4b8d-8628-855e3a9d57f0",
   "metadata": {},
   "outputs": [],
   "source": [
    "from sklearn.cluster import AgglomerativeClustering\n",
    "\n",
    "h_complete = AgglomerativeClustering(n_clusters=4, linkage='complete').fit(minmax_df)\n",
    "labels = h_complete.labels_\n",
    "print(labels)\n"
   ]
  },
  {
   "cell_type": "code",
   "execution_count": null,
   "id": "e9cbec3f-d86d-4e88-9b16-dd63e60be868",
   "metadata": {},
   "outputs": [],
   "source": [
    "cluster_labels = pd.Series(h_complete.labels_)"
   ]
  },
  {
   "cell_type": "code",
   "execution_count": null,
   "id": "b5e50759-5987-46a2-b032-3372d3f071a4",
   "metadata": {},
   "outputs": [],
   "source": [
    "df['Hierar_Cluster'] = cluster_labels"
   ]
  },
  {
   "cell_type": "code",
   "execution_count": null,
   "id": "787fef10-eddb-4c83-a983-be6af88bb4ee",
   "metadata": {},
   "outputs": [],
   "source": [
    "df.head()"
   ]
  },
  {
   "cell_type": "code",
   "execution_count": null,
   "id": "9a60c342-307b-4e33-a852-cad9219b2a3e",
   "metadata": {},
   "outputs": [],
   "source": [
    "df.iloc[:, 0:].groupby(df.Hierar_Cluster).mean()"
   ]
  },
  {
   "cell_type": "markdown",
   "id": "4d10a342-f0d5-4f01-b222-1daf7fac12c8",
   "metadata": {},
   "source": [
    "## DBSCAN"
   ]
  },
  {
   "cell_type": "code",
   "execution_count": null,
   "id": "54058bc1-9082-44f5-8222-22687f794d2c",
   "metadata": {},
   "outputs": [],
   "source": [
    "import numpy as np\n",
    "from itertools import product\n",
    "from itertools import product\n",
    "from sklearn.cluster import DBSCAN\n",
    "from sklearn.preprocessing import StandardScaler\n",
    "from sklearn.metrics import silhouette_score as sil\n",
    "from sklearn.datasets import make_blobs\n",
    "\n",
    "\n",
    "\n"
   ]
  },
  {
   "cell_type": "code",
   "execution_count": null,
   "id": "1f1b80a6-f34e-4715-bac6-be159f18cfbc",
   "metadata": {},
   "outputs": [],
   "source": [
    "!pip install scikit-learn\n",
    "# Example dataset (replace this with your actual dataset)\n",
    "data = np.random.rand(100, 2)  # Random dataset with 100 samples and 2 features\n",
    "df = pd.DataFrame(data, columns=['Feature1', 'Feature2'])\n",
    "\n",
    "# Standardizing the dataset\n",
    "scaler = StandardScaler()\n",
    "std_df = scaler.fit_transform(df)\n",
    "\n",
    "# Defining DBSCAN hyperparameters\n",
    "eps_values = np.arange(0.25, 3, 0.25)  # eps values to be investigated\n",
    "min_samples = np.arange(3, 23)  # min_samples values to be investigated\n",
    "DBSCAN_params = list(product(eps_values, min_samples))\n",
    "\n",
    "no_of_clusters = []\n",
    "sil_score = []\n",
    "\n",
    "for p in DBSCAN_params:\n",
    "    DBS_clustering = DBSCAN(eps=p[0], min_samples=p[1]).fit(std_df)\n",
    "    labels = DBS_clustering.labels_\n",
    "\n",
    "    # Count the number of clusters (excluding noise points labeled as -1)\n",
    "    n_clusters = len(set(labels)) - (1 if -1 in labels else 0)\n",
    "    no_of_clusters.append(n_clusters)\n",
    "\n",
    "    # Compute silhouette score only if there are at least 2 clusters\n",
    "    if n_clusters > 1:\n",
    "        sil_score.append(silhouette_score(std_df, labels))\n",
    "    else:\n",
    "        sil_score.append(-1)  # Assign -1 if clustering is not valid\n",
    "\n",
    "# Convert results to DataFrame for better visualization\n",
    "results_df = pd.DataFrame(DBSCAN_params, columns=['eps', 'min_samples'])\n",
    "results_df['no_of_clusters'] = no_of_clusters\n",
    "results_df['silhouette_score'] = sil_score\n",
    "\n",
    "# Display the first few rows\n",
    "print(results_df.head())\n",
    "        "
   ]
  },
  {
   "cell_type": "code",
   "execution_count": null,
   "id": "bb80ed0c-4133-4270-ae23-0b9ceb842bad",
   "metadata": {},
   "outputs": [],
   "source": [
    "tmp = pd.DataFrame.from_records(DBSCAN_params, columns =['Eps', 'Min_samples'])\n",
    "tmp['No_of_clusters'] = no_of_clusters\n",
    "\n",
    "pivot_1 = pd.pivot_table(tmp, values='No_of_clusters', index='Min_samples', columns='Eps')\n",
    "\n",
    "fig, ax = plt.subplots(figsize=(12,6))\n",
    "sns.heatmap(pivot_1, annot=True,annot_kws={\"size\": 16}, cmap=\"YlGnBu\", ax=ax)\n",
    "ax.set_title('Number of clusters')\n",
    "print('A heatplot below shows how many clusters were genreated by the algorithm for the respective parameters combinations.')\n",
    "plt.show()"
   ]
  },
  {
   "cell_type": "code",
   "execution_count": null,
   "id": "54f156a9-f617-431c-b3c2-e35c2c11b194",
   "metadata": {},
   "outputs": [],
   "source": [
    "tmp = pd.DataFrame.from_records(DBSCAN_params, columns =['Eps', 'Min_samples'])\n",
    "tmp['Sil_score'] = sil_score\n",
    "\n",
    "pivot_1 = pd.pivot_table(tmp, values='Sil_score', index='Min_samples', columns='Eps')\n",
    "\n",
    "fig, ax = plt.subplots(figsize=(18,6))\n",
    "sns.heatmap(pivot_1, annot=True, annot_kws={\"size\": 10}, cmap=\"YlGnBu\", ax=ax)\n",
    "plt.show()"
   ]
  },
  {
   "cell_type": "code",
   "execution_count": null,
   "id": "569d4a01-2f63-4b1d-87e8-7d3ff5bbafd5",
   "metadata": {},
   "outputs": [],
   "source": [
    "\n",
    "import pandas as pd\n",
    "import seaborn as sns\n",
    "\n",
    "# Generate sample data (Replace this with your actual dataset)\n",
    "data, _ = make_blobs(n_samples=300, centers=4, cluster_std=1.0, random_state=42)\n",
    "\n",
    "# Standardizing the data\n",
    "scaler = StandardScaler()\n",
    "std_df = scaler.fit_transform(data)  # std_df is now defined\n",
    "\n",
    "# Parameter ranges\n",
    "epsilon = [0.25, 0.5, 0.75, 1, 1.25, 1.5, 1.75, 2, 2.25, 2.5, 2.75]\n",
    "min_samples = [3, 4, 5, 6, 7, 8, 9, 10, 11, 12, 13, 14, 15, 16, 17, 18, 19, 20, 21, 22]\n",
    "\n",
    "sil_avg = []\n",
    "max_value = [0, 0, 0, 0]  # Stores (epsilon, min_samples, n_clusters, best_sil_score)\n",
    "\n",
    "for i in range(len(epsilon)):\n",
    "    for j in range(len(min_samples)):\n",
    "        # Run DBSCAN\n",
    "        db = DBSCAN(min_samples=min_samples[j], eps=epsilon[i]).fit(std_df)\n",
    "        labels = db.labels_\n",
    "\n",
    "        # Number of clusters (excluding noise, which is labeled as -1)\n",
    "        n_clusters_ = len(set(labels)) - (1 if -1 in labels else 0)\n",
    "\n",
    "        # Compute silhouette score only if there is more than 1 cluster\n",
    "        if n_clusters_ > 1:\n",
    "            silhouette_avg = sil(std_df, labels)\n",
    "            if silhouette_avg > max_value[3]:\n",
    "                max_value = [epsilon[i], min_samples[j], n_clusters_, silhouette_avg]\n",
    "            sil_avg.append(silhouette_avg)\n",
    "\n",
    "# Print the best parameters and silhouette score\n",
    "print(\"Best DBSCAN Parameters:\")\n",
    "print(\"epsilon =\", max_value[0])\n",
    "print(\"min_samples =\", max_value[1])\n",
    "print(\"number of clusters =\", max_value[2])\n",
    "print(\"average silhouette score = %.4f\" % max_value[3])\n",
    "\n",
    "      "
   ]
  },
  {
   "cell_type": "code",
   "execution_count": null,
   "id": "8b51ffac-ad1c-453b-8e41-886bd1555ca4",
   "metadata": {},
   "outputs": [],
   "source": [
    "dbscan = DBSCAN(eps=2.5, min_samples=21)\n",
    "dbscan.fit(std_df)"
   ]
  },
  {
   "cell_type": "code",
   "execution_count": null,
   "id": "7105b480-2918-4325-b4b8-db703cc3c719",
   "metadata": {},
   "outputs": [],
   "source": [
    "dbscan.labels_"
   ]
  },
  {
   "cell_type": "code",
   "execution_count": null,
   "id": "51251718-7cd4-4d5c-b8dd-5688f475651f",
   "metadata": {},
   "outputs": [],
   "source": [
    "df['DBSCAN_labels'] = dbscan.labels_\n",
    "df.head()"
   ]
  },
  {
   "cell_type": "code",
   "execution_count": null,
   "id": "d403de0b-d516-4995-9e3a-df8545c8f448",
   "metadata": {},
   "outputs": [],
   "source": [
    "df.groupby('DBSCAN_labels').agg(['mean'])"
   ]
  },
  {
   "cell_type": "code",
   "execution_count": null,
   "id": "313ee7a1-8fd6-4343-923a-382c957ec066",
   "metadata": {},
   "outputs": [],
   "source": [
    "# Plotting barplot using groupby method to get visualize how many row no. in each cluster\n",
    "\n",
    "fig, ax = plt.subplots(figsize=(10, 6))\n",
    "df.groupby('DBSCAN_labels').count()['Balance'].plot(kind='bar')\n",
    "plt.ylabel('ID Counts')\n",
    "plt.title('DBSCAN Clustering Standard Scaled Data',fontsize='large',fontweight='bold')\n",
    "ax.set_xlabel('Clusters', fontsize='large', fontweight='bold')\n",
    "ax.set_ylabel('ID counts', fontsize='large', fontweight='bold')\n",
    "plt.yticks(fontsize=15)\n",
    "plt.xticks(fontsize=15)\n",
    "plt.show()"
   ]
  },
  {
   "cell_type": "code",
   "execution_count": null,
   "id": "ee6f4864-92ad-48b5-8b27-2a659e6a5b05",
   "metadata": {},
   "outputs": [],
   "source": []
  }
 ],
 "metadata": {
  "kernelspec": {
   "display_name": "Python 3 (ipykernel)",
   "language": "python",
   "name": "python3"
  },
  "language_info": {
   "codemirror_mode": {
    "name": "ipython",
    "version": 3
   },
   "file_extension": ".py",
   "mimetype": "text/x-python",
   "name": "python",
   "nbconvert_exporter": "python",
   "pygments_lexer": "ipython3",
   "version": "3.12.6"
  }
 },
 "nbformat": 4,
 "nbformat_minor": 5
}
